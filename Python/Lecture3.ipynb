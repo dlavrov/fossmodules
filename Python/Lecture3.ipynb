{
 "metadata": {
  "name": ""
 },
 "nbformat": 3,
 "nbformat_minor": 0,
 "worksheets": [
  {
   "cells": [
    {
     "cell_type": "markdown",
     "metadata": {
      "slideshow": {
       "slide_type": "slide"
      }
     },
     "source": [
      "# GDAL"
     ]
    },
    {
     "cell_type": "markdown",
     "metadata": {
      "slideshow": {
       "slide_type": "fragment"
      }
     },
     "source": [
      "What is GDAL?  Geospatial Data Abstraction Library.  It basically acts as an abstraciton layer between many Raster and Vector GIS data formats.  It makes your life easy!.  \n",
      "\n",
      "It is a C++ library which also has \"python bindings\".  These python bindings allow you to call the underlying C++ methods from inside of python, and there are a few niceties that help you get data into formats useful for analysis in python.\n",
      "\n",
      "It can read all these [formats](http://www.gdal.org/formats_list.html), and has a sister library called OGR for reading vector GIS data and it can read all these [formats](http://www.gdal.org/ogr/ogr_formats.html).\n",
      "\n",
      "\n",
      "\n",
      "\n"
     ]
    },
    {
     "cell_type": "markdown",
     "metadata": {
      "slideshow": {
       "slide_type": "slide"
      }
     },
     "source": [
      "# When to use gdal and python\n",
      "\n",
      "When you need complete control over the anlaysis process and are processing large amounts of data, python and/or gdal can be a good choice.\n",
      "\n",
      "Usign Python is a little bit lower level (you have to do more) than the raster tools we saw in R, but it is still a capable choice for some analysis problems.\n",
      "\n",
      "Tools like ENVI, Erdas Imagine etc are great for interactive first-time adhoc analysis.  You turn to lower level tools (like IDL, Python) when you need to do the same thing over and over again on large amounts of data."
     ]
    },
    {
     "cell_type": "markdown",
     "metadata": {
      "slideshow": {
       "slide_type": "fragment"
      }
     },
     "source": [
      "# Gdal Utilities\n",
      "\n",
      "When you install GDAL on a machine you get a series of GDAL/OGR utilities which run at the command line shel:\n",
      "```\n",
      "gdal2tiles.py       gdal-config         gdal_fillnodata.py  gdalmanage          gdal_retile.py      gdalwarp\n",
      "gdal2xyz.py         gdal-config-64      gdal_grid           gdal_merge.py       gdal_sieve.py\n",
      "gdaladdo            gdal_contour        gdalident.py        gdal_polygonize.py  gdaltindex\n",
      "gdalbuildvrt        gdaldem             gdalimport.py       gdal_proximity.py   gdaltransform\n",
      "gdalchksum.py       gdalenhance         gdalinfo            gdal_rasterize      gdal_translate\n",
      "```\n",
      "\n",
      "**Note: These utilities do not run from inside python, they run at the BASH shell prompt**\n",
      "\n"
     ]
    },
    {
     "cell_type": "markdown",
     "metadata": {
      "slideshow": {
       "slide_type": "fragment"
      }
     },
     "source": [
      "Important ones to learn about are:\n",
      "\n",
      "* gdalinfo - reads metadata about raster files\n",
      "* gdal_translate - convert from one raster format to another\n",
      "* gdalwarp - convert from one spatial projection to another (and change formats if desired)\n",
      "\n",
      "The [other utilities](http://www.gdal.org/gdal_utilities.html) have documentation at the gdal.org website."
     ]
    },
    {
     "cell_type": "markdown",
     "metadata": {
      "slideshow": {
       "slide_type": "slide"
      }
     },
     "source": [
      "# gdalinfo \n",
      "\n",
      "Used for reading metadata\n",
      "\n",
      "Try these on bison.rccc.ou.edu\n",
      "    \n",
      "    cd /data/vol10/education/cources/Duckles_programming/MODIS"
     ]
    },
    {
     "cell_type": "code",
     "collapsed": false,
     "input": [
      "%%sh\n",
      "gdalinfo --help"
     ],
     "language": "python",
     "metadata": {
      "slideshow": {
       "slide_type": "fragment"
      }
     },
     "outputs": [
      {
       "output_type": "stream",
       "stream": "stdout",
       "text": [
        "Usage: gdalinfo [--help-general] [-mm] [-stats] [-hist] [-nogcp] [-nomd]\n",
        "                [-norat] [-noct] [-nofl] [-checksum] [-proj4] [-mdd domain]*\n",
        "                [-sd subdataset] datasetname\n"
       ]
      }
     ],
     "prompt_number": 10
    },
    {
     "cell_type": "code",
     "collapsed": false,
     "input": [
      "%%sh \n",
      "gdalinfo MOD09A1.A2000081.h09v05.005.2008196055753.ndvi.tif"
     ],
     "language": "python",
     "metadata": {
      "slideshow": {
       "slide_type": "slide"
      }
     },
     "outputs": [
      {
       "output_type": "stream",
       "stream": "stdout",
       "text": [
        "Driver: GTiff/GeoTIFF\n",
        "Files: MOD09A1.A2000081.h09v05.005.2008196055753.ndvi.tif\n",
        "       MOD09A1.A2000081.h09v05.005.2008196055753.ndvi.tif.aux.xml\n",
        "Size is 2400, 2400\n",
        "Coordinate System is:\n",
        "PROJCS[\"unnamed\",\n",
        "    GEOGCS[\"Unknown datum based upon the custom spheroid\",\n",
        "        DATUM[\"Not_specified_based_on_custom_spheroid\",\n",
        "            SPHEROID[\"Custom spheroid\",6371007.181,0]],\n",
        "        PRIMEM[\"Greenwich\",0],\n",
        "        UNIT[\"degree\",0.0174532925199433]],\n",
        "    PROJECTION[\"Sinusoidal\"],\n",
        "    PARAMETER[\"longitude_of_center\",0],\n",
        "    PARAMETER[\"false_easting\",0],\n",
        "    PARAMETER[\"false_northing\",0],\n",
        "    UNIT[\"metre\",1,\n",
        "        AUTHORITY[\"EPSG\",\"9001\"]]]\n",
        "Origin = (-10007554.676999999210238,4447802.078666999936104)\n",
        "Pixel Size = (463.312716527916507,-463.312716527916677)\n",
        "Metadata:\n",
        "  AREA_OR_POINT=Area\n",
        "Image Structure Metadata:\n",
        "  INTERLEAVE=BAND\n",
        "Corner Coordinates:\n",
        "Upper Left  (-10007554.677, 4447802.079) (117d29'11.96\"W, 40d 0' 0.00\"N)\n",
        "Lower Left  (-10007554.677, 3335851.559) (103d55'22.97\"W, 30d 0' 0.00\"N)\n",
        "Upper Right (-8895604.157, 4447802.079) (104d25'57.30\"W, 40d 0' 0.00\"N)\n",
        "Lower Right (-8895604.157, 3335851.559) ( 92d22'33.76\"W, 30d 0' 0.00\"N)\n",
        "Center      (-9451579.417, 3891826.819) (103d45'57.02\"W, 35d 0' 0.00\"N)\n",
        "Band 1 Block=2400x1 Type=Float32, ColorInterp=Gray\n",
        "  Min=0.000 Max=0.000 \n",
        "  Minimum=0.000, Maximum=0.000, Mean=0.000, StdDev=0.000\n",
        "  NoData Value=-2\n",
        "  Metadata:\n",
        "    STATISTICS_MAXIMUM=0\n",
        "    STATISTICS_MEAN=0\n",
        "    STATISTICS_MINIMUM=0\n",
        "    STATISTICS_STDDEV=0\n"
       ]
      }
     ],
     "prompt_number": 11
    },
    {
     "cell_type": "code",
     "collapsed": false,
     "input": [
      "%%sh\n",
      "gdalinfo -stats  MOD09A1.A2000081.h09v05.005.2008196055753.ndvi.tif\n",
      "# Computes statistics "
     ],
     "language": "python",
     "metadata": {
      "slideshow": {
       "slide_type": "slide"
      }
     },
     "outputs": [
      {
       "output_type": "stream",
       "stream": "stdout",
       "text": [
        "Driver: GTiff/GeoTIFF\n",
        "Files: MOD09A1.A2000081.h09v05.005.2008196055753.ndvi.tif\n",
        "       MOD09A1.A2000081.h09v05.005.2008196055753.ndvi.tif.aux.xml\n",
        "Size is 2400, 2400\n",
        "Coordinate System is:\n",
        "PROJCS[\"unnamed\",\n",
        "    GEOGCS[\"Unknown datum based upon the custom spheroid\",\n",
        "        DATUM[\"Not_specified_based_on_custom_spheroid\",\n",
        "            SPHEROID[\"Custom spheroid\",6371007.181,0]],\n",
        "        PRIMEM[\"Greenwich\",0],\n",
        "        UNIT[\"degree\",0.0174532925199433]],\n",
        "    PROJECTION[\"Sinusoidal\"],\n",
        "    PARAMETER[\"longitude_of_center\",0],\n",
        "    PARAMETER[\"false_easting\",0],\n",
        "    PARAMETER[\"false_northing\",0],\n",
        "    UNIT[\"metre\",1,\n",
        "        AUTHORITY[\"EPSG\",\"9001\"]]]\n",
        "Origin = (-10007554.676999999210238,4447802.078666999936104)\n",
        "Pixel Size = (463.312716527916507,-463.312716527916677)\n",
        "Metadata:\n",
        "  AREA_OR_POINT=Area\n",
        "Image Structure Metadata:\n",
        "  INTERLEAVE=BAND\n",
        "Corner Coordinates:\n",
        "Upper Left  (-10007554.677, 4447802.079) (117d29'11.96\"W, 40d 0' 0.00\"N)\n",
        "Lower Left  (-10007554.677, 3335851.559) (103d55'22.97\"W, 30d 0' 0.00\"N)\n",
        "Upper Right (-8895604.157, 4447802.079) (104d25'57.30\"W, 40d 0' 0.00\"N)\n",
        "Lower Right (-8895604.157, 3335851.559) ( 92d22'33.76\"W, 30d 0' 0.00\"N)\n",
        "Center      (-9451579.417, 3891826.819) (103d45'57.02\"W, 35d 0' 0.00\"N)\n",
        "Band 1 Block=2400x1 Type=Float32, ColorInterp=Gray\n",
        "  Min=0.000 Max=0.000 \n",
        "  Minimum=0.000, Maximum=0.000, Mean=0.000, StdDev=0.000\n",
        "  NoData Value=-2\n",
        "  Metadata:\n",
        "    STATISTICS_MAXIMUM=0\n",
        "    STATISTICS_MEAN=0\n",
        "    STATISTICS_MINIMUM=0\n",
        "    STATISTICS_STDDEV=0\n"
       ]
      }
     ],
     "prompt_number": 12
    },
    {
     "cell_type": "markdown",
     "metadata": {
      "slideshow": {
       "slide_type": "slide"
      }
     },
     "source": [
      "# gdal_translate\n",
      "\n",
      "Gdal translate can help you to convert from one raster file format to another"
     ]
    },
    {
     "cell_type": "code",
     "collapsed": false,
     "input": [
      "%%sh\n",
      "gdal-config --formats"
     ],
     "language": "python",
     "metadata": {
      "slideshow": {
       "slide_type": "fragment"
      }
     },
     "outputs": [
      {
       "output_type": "stream",
       "stream": "stdout",
       "text": [
        "gxf gtiff hfa aigrid aaigrid ceos ceos2 iso8211 xpm sdts raw dted mem jdem envisat elas fit vrt usgsdem l1b nitf bmp pcidsk airsar rs2 ilwis rmf leveller sgi srtmhgt idrisi gsg ingr ers jaxapalsar dimap gff cosar pds adrg coasp tsx terragen blx msgn til r northwood saga xyz hf2 kmlsuperoverlay ctg e00grid zmap ngsgeoid iris map wcs wms grib bsb gif jpeg png pcraster rik ozi pdf rasterlite mbtiles arg\n"
       ]
      }
     ],
     "prompt_number": 13
    },
    {
     "cell_type": "code",
     "collapsed": false,
     "input": [
      "%%sh\n",
      "gdal_translate --help"
     ],
     "language": "python",
     "metadata": {
      "slideshow": {
       "slide_type": "fragment"
      }
     },
     "outputs": [
      {
       "output_type": "stream",
       "stream": "stdout",
       "text": [
        "Usage: gdal_translate [--help-general] [--long-usage]\n",
        "       [-ot {Byte/Int16/UInt16/UInt32/Int32/Float32/Float64/\n",
        "             CInt16/CInt32/CFloat32/CFloat64}] [-strict]\n",
        "       [-of format] [-b band] [-mask band] [-expand {gray|rgb|rgba}]\n",
        "       [-outsize xsize[%] ysize[%]]\n",
        "       [-unscale] [-scale [src_min src_max [dst_min dst_max]]]\n",
        "       [-srcwin xoff yoff xsize ysize] [-projwin ulx uly lrx lry] [-epo] [-eco]\n",
        "       [-a_srs srs_def] [-a_ullr ulx uly lrx lry] [-a_nodata value]\n",
        "       [-gcp pixel line easting northing [elevation]]*\n",
        "       [-mo \"META-TAG=VALUE\"]* [-q] [-sds]\n",
        "       [-co \"NAME=VALUE\"]* [-stats]\n",
        "       src_dataset dst_dataset\n"
       ]
      }
     ],
     "prompt_number": 14
    },
    {
     "cell_type": "code",
     "collapsed": false,
     "input": [
      "%%sh\n",
      "gdal_translate -of HFA /Users/jduckles/tmp/MODIS/MOD09A1.A2000081.h09v05.005.2008196055753.ndvi.tif output.img"
     ],
     "language": "python",
     "metadata": {
      "slideshow": {
       "slide_type": "fragment"
      }
     },
     "outputs": [
      {
       "output_type": "stream",
       "stream": "stdout",
       "text": [
        "Input file size is 2400, 2400\n",
        "0...10...20...30...40...50...60...70...80...90...100 - done.\n"
       ]
      }
     ],
     "prompt_number": 15
    },
    {
     "cell_type": "markdown",
     "metadata": {
      "slideshow": {
       "slide_type": "slide"
      }
     },
     "source": [
      "# gdalwarp\n",
      "\n",
      "gdalwarp helps you to reproject raster data"
     ]
    },
    {
     "cell_type": "markdown",
     "metadata": {
      "slideshow": {
       "slide_type": "fragment"
      }
     },
     "source": [
      "We start with something like this MODIS scene in Sinusoidal Projection:\n",
      "\n",
      "![Before](files/images/input.png)"
     ]
    },
    {
     "cell_type": "markdown",
     "metadata": {
      "slideshow": {
       "slide_type": "slide"
      }
     },
     "source": [
      "\n",
      "    gdalwarp -t_srs \"WGS84\" /Users/jduckles/tmp/MODIS/MOD09A1.A2005105.h09v05.005.2008018093904.ndvi.tif output.tif \n"
     ]
    },
    {
     "cell_type": "markdown",
     "metadata": {
      "slideshow": {
       "slide_type": "fragment"
      }
     },
     "source": [
      "And we can reproject it to something like this\n",
      "\n",
      "![output](files/images/output.png)"
     ]
    },
    {
     "cell_type": "markdown",
     "metadata": {
      "slideshow": {
       "slide_type": "slide"
      }
     },
     "source": [
      "# What is t_srs\n",
      "\n",
      "Example: [Google Web Mercator](http://spatialreference.org/ref/sr-org/6627/)\n",
      "\n"
     ]
    },
    {
     "cell_type": "markdown",
     "metadata": {
      "slideshow": {
       "slide_type": "slide"
      }
     },
     "source": [
      "![Transverse Mercator](files/images/TransverseMercator.png)"
     ]
    },
    {
     "cell_type": "markdown",
     "metadata": {
      "slideshow": {
       "slide_type": "slide"
      }
     },
     "source": [
      "![Mercator](files/images/Mercator.png)"
     ]
    },
    {
     "cell_type": "markdown",
     "metadata": {
      "slideshow": {
       "slide_type": "slide"
      }
     },
     "source": [
      "![Sinusoidal](files/images/Sinusoidal.png)"
     ]
    },
    {
     "cell_type": "markdown",
     "metadata": {
      "slideshow": {
       "slide_type": "slide"
      }
     },
     "source": [
      "Just for fun! \n",
      "\n",
      "![Bacon Globular](files/images/BaconGlobular.png)"
     ]
    },
    {
     "cell_type": "markdown",
     "metadata": {
      "slideshow": {
       "slide_type": "slide"
      }
     },
     "source": [
      "# OGR Utilties\n",
      "Associated ogr utilities:\n",
      "```\n",
      "ogr2ogr    ogrinfo    ogrtindex\n",
      "```\n",
      "\n",
      "Important OGR utilites\n",
      "\n",
      "* ogrinfo - reads metadata about vector files\n",
      "* ogr2ogr - convert and reproject (like gdalwarp, but for vector data)\n",
      "\n",
      "In this class we won't use OGR at all, but know that these vector utiltites exist because they can be helpful to you in the future.\n",
      "\n",
      "ogr2ogr is indispensible for reprojecting and converting vector GIS data from one format to another.  You can do much of this in ArcGIS, but why bother when there is a free specialized utility ready to help you!\n"
     ]
    },
    {
     "cell_type": "markdown",
     "metadata": {
      "slideshow": {
       "slide_type": "fragment"
      }
     },
     "source": [
      "[Presentation with More Information](ftp://ftp.remotesensing.org/gdal/presentations/OpenSource_Weds_Andre_CUGOS.pdf)"
     ]
    },
    {
     "cell_type": "code",
     "collapsed": false,
     "input": [
      "from osgeo import gdal\n",
      "import os\n",
      "import numpy\n",
      "\n",
      "gdal.AllRegister()\n",
      "help(gdal)\n",
      "# Gdal is well documented."
     ],
     "language": "python",
     "metadata": {
      "slideshow": {
       "slide_type": "slide"
      }
     },
     "outputs": [
      {
       "output_type": "stream",
       "stream": "stdout",
       "text": [
        "Help on module osgeo.gdal in osgeo:\n",
        "\n",
        "NAME\n",
        "    osgeo.gdal\n",
        "\n",
        "FILE\n",
        "    /Users/jduckles/lib/python2.7/site-packages/osgeo/gdal.py\n",
        "\n",
        "DESCRIPTION\n",
        "    # This file was automatically generated by SWIG (http://www.swig.org).\n",
        "    # Version 1.3.40\n",
        "    #\n",
        "    # Do not make changes to this file unless you know what you are doing--modify\n",
        "    # the SWIG interface file instead.\n",
        "    # This file is compatible with both classic and new-style classes.\n",
        "\n",
        "CLASSES\n",
        "    __builtin__.object\n",
        "        AsyncReader\n",
        "        ColorEntry\n",
        "        ColorTable\n",
        "        GCP\n",
        "        MajorObject\n",
        "            Band\n",
        "            Dataset\n",
        "            Driver\n",
        "        RasterAttributeTable\n",
        "        StatBuf\n",
        "        Transformer\n",
        "    \n",
        "    class AsyncReader(__builtin__.object)\n",
        "     |  Proxy of C++ GDALAsyncReaderShadow class\n",
        "     |  \n",
        "     |  Methods defined here:\n",
        "     |  \n",
        "     |  GetBuffer(self, *args)\n",
        "     |      GetBuffer(self)\n",
        "     |  \n",
        "     |  GetNextUpdatedRegion(self, *args)\n",
        "     |      GetNextUpdatedRegion(self, double timeout) -> GDALAsyncStatusType\n",
        "     |  \n",
        "     |  LockBuffer(self, *args)\n",
        "     |      LockBuffer(self, double timeout) -> int\n",
        "     |  \n",
        "     |  UnlockBuffer(self, *args)\n",
        "     |      UnlockBuffer(self)\n",
        "     |  \n",
        "     |  __del__ lambda self\n",
        "     |  \n",
        "     |  __getattr__ lambda self, name\n",
        "     |  \n",
        "     |  __init__(self, *args, **kwargs)\n",
        "     |  \n",
        "     |  __repr__ = _swig_repr(self)\n",
        "     |  \n",
        "     |  __setattr__ lambda self, name, value\n",
        "     |  \n",
        "     |  ----------------------------------------------------------------------\n",
        "     |  Data descriptors defined here:\n",
        "     |  \n",
        "     |  __dict__\n",
        "     |      dictionary for instance variables (if defined)\n",
        "     |  \n",
        "     |  __weakref__\n",
        "     |      list of weak references to the object (if defined)\n",
        "     |  \n",
        "     |  ----------------------------------------------------------------------\n",
        "     |  Data and other attributes defined here:\n",
        "     |  \n",
        "     |  __swig_destroy__ = <built-in function delete_AsyncReader>\n",
        "     |      delete_AsyncReader(AsyncReader self)\n",
        "     |  \n",
        "     |  __swig_getmethods__ = {}\n",
        "     |  \n",
        "     |  __swig_setmethods__ = {}\n",
        "    \n",
        "    class Band(MajorObject)\n",
        "     |  Proxy of C++ GDALRasterBandShadow class\n",
        "     |  \n",
        "     |  Method resolution order:\n",
        "     |      Band\n",
        "     |      MajorObject\n",
        "     |      __builtin__.object\n",
        "     |  \n",
        "     |  Methods defined here:\n",
        "     |  \n",
        "     |  Checksum(self, *args, **kwargs)\n",
        "     |      Checksum(self, int xoff = 0, int yoff = 0, int xsize = None, int ysize = None) -> int\n",
        "     |  \n",
        "     |  ComputeBandStats(self, *args)\n",
        "     |      ComputeBandStats(self, int samplestep = 1)\n",
        "     |  \n",
        "     |  ComputeRasterMinMax(self, *args)\n",
        "     |      ComputeRasterMinMax(self, int approx_ok = 0)\n",
        "     |  \n",
        "     |  ComputeStatistics(self, *args)\n",
        "     |      ComputeStatistics(self, bool approx_ok, GDALProgressFunc callback = None, void callback_data = None) -> CPLErr\n",
        "     |  \n",
        "     |  CreateMaskBand(self, *args)\n",
        "     |      CreateMaskBand(self, int nFlags) -> CPLErr\n",
        "     |  \n",
        "     |  Fill(self, *args)\n",
        "     |      Fill(self, double real_fill, double imag_fill = 0.0) -> CPLErr\n",
        "     |  \n",
        "     |  FlushCache(self, *args)\n",
        "     |      FlushCache(self)\n",
        "     |  \n",
        "     |  GetBand(self, *args)\n",
        "     |      GetBand(self) -> int\n",
        "     |  \n",
        "     |  GetBlockSize(self, *args)\n",
        "     |      GetBlockSize(self)\n",
        "     |  \n",
        "     |  GetCategoryNames(self, *args)\n",
        "     |      GetCategoryNames(self) -> char\n",
        "     |  \n",
        "     |  GetColorInterpretation(self, *args)\n",
        "     |      GetColorInterpretation(self) -> GDALColorInterp\n",
        "     |  \n",
        "     |  GetColorTable(self, *args)\n",
        "     |      GetColorTable(self) -> ColorTable\n",
        "     |  \n",
        "     |  GetDefaultHistogram(self, *args, **kwargs)\n",
        "     |      GetDefaultHistogram(self, double min_ret = None, double max_ret = None, int buckets_ret = None, \n",
        "     |          int ppanHistogram = None, \n",
        "     |          int force = 1, GDALProgressFunc callback = None, \n",
        "     |          void callback_data = None) -> CPLErr\n",
        "     |  \n",
        "     |  GetDefaultRAT(self, *args)\n",
        "     |      GetDefaultRAT(self) -> RasterAttributeTable\n",
        "     |  \n",
        "     |  GetHistogram(self, *args, **kwargs)\n",
        "     |      GetHistogram(self, double min = -0.5, double max = 255.5, int buckets = 256, \n",
        "     |          int include_out_of_range = 0, int approx_ok = 1, \n",
        "     |          GDALProgressFunc callback = None, \n",
        "     |          void callback_data = None) -> CPLErr\n",
        "     |  \n",
        "     |  GetMaskBand(self, *args)\n",
        "     |      GetMaskBand(self) -> Band\n",
        "     |  \n",
        "     |  GetMaskFlags(self, *args)\n",
        "     |      GetMaskFlags(self) -> int\n",
        "     |  \n",
        "     |  GetMaximum(self, *args)\n",
        "     |      GetMaximum(self)\n",
        "     |  \n",
        "     |  GetMinimum(self, *args)\n",
        "     |      GetMinimum(self)\n",
        "     |  \n",
        "     |  GetNoDataValue(self, *args)\n",
        "     |      GetNoDataValue(self)\n",
        "     |  \n",
        "     |  GetOffset(self, *args)\n",
        "     |      GetOffset(self)\n",
        "     |  \n",
        "     |  GetOverview(self, *args)\n",
        "     |      GetOverview(self, int i) -> Band\n",
        "     |  \n",
        "     |  GetOverviewCount(self, *args)\n",
        "     |      GetOverviewCount(self) -> int\n",
        "     |  \n",
        "     |  GetRasterCategoryNames(self, *args)\n",
        "     |      GetRasterCategoryNames(self) -> char\n",
        "     |  \n",
        "     |  GetRasterColorInterpretation(self, *args)\n",
        "     |      GetRasterColorInterpretation(self) -> GDALColorInterp\n",
        "     |  \n",
        "     |  GetRasterColorTable(self, *args)\n",
        "     |      GetRasterColorTable(self) -> ColorTable\n",
        "     |  \n",
        "     |  GetScale(self, *args)\n",
        "     |      GetScale(self)\n",
        "     |  \n",
        "     |  GetStatistics(self, *args)\n",
        "     |      GetStatistics(self, int approx_ok, int force) -> CPLErr\n",
        "     |  \n",
        "     |  GetUnitType(self, *args)\n",
        "     |      GetUnitType(self) -> char\n",
        "     |  \n",
        "     |  HasArbitraryOverviews(self, *args)\n",
        "     |      HasArbitraryOverviews(self) -> bool\n",
        "     |  \n",
        "     |  ReadAsArray(self, xoff=0, yoff=0, win_xsize=None, win_ysize=None, buf_xsize=None, buf_ysize=None, buf_obj=None)\n",
        "     |  \n",
        "     |  ReadRaster(self, xoff, yoff, xsize, ysize, buf_xsize=None, buf_ysize=None, buf_type=None, buf_pixel_space=None, buf_line_space=None)\n",
        "     |  \n",
        "     |  ReadRaster1(self, *args, **kwargs)\n",
        "     |      ReadRaster1(self, int xoff, int yoff, int xsize, int ysize, int buf_xsize = None, \n",
        "     |          int buf_ysize = None, int buf_type = None, \n",
        "     |          int buf_pixel_space = None, int buf_line_space = None) -> CPLErr\n",
        "     |  \n",
        "     |  SetCategoryNames(self, *args)\n",
        "     |      SetCategoryNames(self, char papszCategoryNames) -> CPLErr\n",
        "     |  \n",
        "     |  SetColorInterpretation(self, *args)\n",
        "     |      SetColorInterpretation(self, GDALColorInterp val) -> CPLErr\n",
        "     |  \n",
        "     |  SetColorTable(self, *args)\n",
        "     |      SetColorTable(self, ColorTable arg) -> int\n",
        "     |  \n",
        "     |  SetDefaultHistogram(self, *args)\n",
        "     |      SetDefaultHistogram(self, double min, double max, int buckets_in) -> CPLErr\n",
        "     |  \n",
        "     |  SetDefaultRAT(self, *args)\n",
        "     |      SetDefaultRAT(self, RasterAttributeTable table) -> int\n",
        "     |  \n",
        "     |  SetNoDataValue(self, *args)\n",
        "     |      SetNoDataValue(self, double d) -> CPLErr\n",
        "     |  \n",
        "     |  SetOffset(self, *args)\n",
        "     |      SetOffset(self, double val) -> CPLErr\n",
        "     |  \n",
        "     |  SetRasterCategoryNames(self, *args)\n",
        "     |      SetRasterCategoryNames(self, char names) -> CPLErr\n",
        "     |  \n",
        "     |  SetRasterColorInterpretation(self, *args)\n",
        "     |      SetRasterColorInterpretation(self, GDALColorInterp val) -> CPLErr\n",
        "     |  \n",
        "     |  SetRasterColorTable(self, *args)\n",
        "     |      SetRasterColorTable(self, ColorTable arg) -> int\n",
        "     |  \n",
        "     |  SetScale(self, *args)\n",
        "     |      SetScale(self, double val) -> CPLErr\n",
        "     |  \n",
        "     |  SetStatistics(self, *args)\n",
        "     |      SetStatistics(self, double min, double max, double mean, double stddev) -> CPLErr\n",
        "     |  \n",
        "     |  SetUnitType(self, *args)\n",
        "     |      SetUnitType(self, char val) -> CPLErr\n",
        "     |  \n",
        "     |  WriteArray(self, array, xoff=0, yoff=0)\n",
        "     |  \n",
        "     |  WriteRaster(self, *args, **kwargs)\n",
        "     |      WriteRaster(self, int xoff, int yoff, int xsize, int ysize, GIntBig buf_len, \n",
        "     |          int buf_xsize = None, int buf_ysize = None, \n",
        "     |          int buf_type = None, int buf_pixel_space = None, \n",
        "     |          int buf_line_space = None) -> CPLErr\n",
        "     |  \n",
        "     |  __get_array_interface__(self)\n",
        "     |  \n",
        "     |  __getattr__ lambda self, name\n",
        "     |  \n",
        "     |  __init__(self, *args, **kwargs)\n",
        "     |  \n",
        "     |  __repr__ = _swig_repr(self)\n",
        "     |  \n",
        "     |  __setattr__ lambda self, name, value\n",
        "     |  \n",
        "     |  ----------------------------------------------------------------------\n",
        "     |  Data descriptors defined here:\n",
        "     |  \n",
        "     |  DataType\n",
        "     |      Band_DataType_get(Band self) -> GDALDataType\n",
        "     |  \n",
        "     |  XSize\n",
        "     |      Band_XSize_get(Band self) -> int\n",
        "     |  \n",
        "     |  YSize\n",
        "     |      Band_YSize_get(Band self) -> int\n",
        "     |  \n",
        "     |  ----------------------------------------------------------------------\n",
        "     |  Data and other attributes defined here:\n",
        "     |  \n",
        "     |  __swig_getmethods__ = {'DataType': <built-in function Band_DataType_ge...\n",
        "     |  \n",
        "     |  __swig_setmethods__ = {}\n",
        "     |  \n",
        "     |  ----------------------------------------------------------------------\n",
        "     |  Methods inherited from MajorObject:\n",
        "     |  \n",
        "     |  GetDescription(self, *args)\n",
        "     |      GetDescription(self) -> char\n",
        "     |  \n",
        "     |  GetMetadata(self, domain='')\n",
        "     |  \n",
        "     |  GetMetadataItem(self, *args)\n",
        "     |      GetMetadataItem(self, char pszName, char pszDomain = \"\") -> char\n",
        "     |  \n",
        "     |  GetMetadata_Dict(self, *args)\n",
        "     |      GetMetadata_Dict(self, char pszDomain = \"\") -> char\n",
        "     |  \n",
        "     |  GetMetadata_List(self, *args)\n",
        "     |      GetMetadata_List(self, char pszDomain = \"\") -> char\n",
        "     |  \n",
        "     |  SetDescription(self, *args)\n",
        "     |      SetDescription(self, char pszNewDesc)\n",
        "     |  \n",
        "     |  SetMetadata(self, *args)\n",
        "     |      SetMetadata(self, char papszMetadata, char pszDomain = \"\") -> CPLErr\n",
        "     |      SetMetadata(self, char pszMetadataString, char pszDomain = \"\") -> CPLErr\n",
        "     |  \n",
        "     |  SetMetadataItem(self, *args)\n",
        "     |      SetMetadataItem(self, char pszName, char pszValue, char pszDomain = \"\") -> CPLErr\n",
        "     |  \n",
        "     |  ----------------------------------------------------------------------\n",
        "     |  Data descriptors inherited from MajorObject:\n",
        "     |  \n",
        "     |  __dict__\n",
        "     |      dictionary for instance variables (if defined)\n",
        "     |  \n",
        "     |  __weakref__\n",
        "     |      list of weak references to the object (if defined)\n",
        "    \n",
        "    class ColorEntry(__builtin__.object)\n",
        "     |  Proxy of C++ GDALColorEntry class\n",
        "     |  \n",
        "     |  Methods defined here:\n",
        "     |  \n",
        "     |  __del__ lambda self\n",
        "     |  \n",
        "     |  __getattr__ lambda self, name\n",
        "     |  \n",
        "     |  __init__(self, *args)\n",
        "     |      __init__(self) -> ColorEntry\n",
        "     |  \n",
        "     |  __repr__ = _swig_repr(self)\n",
        "     |  \n",
        "     |  __setattr__ lambda self, name, value\n",
        "     |  \n",
        "     |  ----------------------------------------------------------------------\n",
        "     |  Data descriptors defined here:\n",
        "     |  \n",
        "     |  __dict__\n",
        "     |      dictionary for instance variables (if defined)\n",
        "     |  \n",
        "     |  __weakref__\n",
        "     |      list of weak references to the object (if defined)\n",
        "     |  \n",
        "     |  c1\n",
        "     |      ColorEntry_c1_get(ColorEntry self) -> short\n",
        "     |  \n",
        "     |  c2\n",
        "     |      ColorEntry_c2_get(ColorEntry self) -> short\n",
        "     |  \n",
        "     |  c3\n",
        "     |      ColorEntry_c3_get(ColorEntry self) -> short\n",
        "     |  \n",
        "     |  c4\n",
        "     |      ColorEntry_c4_get(ColorEntry self) -> short\n",
        "     |  \n",
        "     |  ----------------------------------------------------------------------\n",
        "     |  Data and other attributes defined here:\n",
        "     |  \n",
        "     |  __swig_destroy__ = <built-in function delete_ColorEntry>\n",
        "     |      delete_ColorEntry(ColorEntry self)\n",
        "     |  \n",
        "     |  __swig_getmethods__ = {'c1': <built-in function ColorEntry_c1_get>, 'c...\n",
        "     |  \n",
        "     |  __swig_setmethods__ = {'c1': <built-in function ColorEntry_c1_set>, 'c...\n",
        "    \n",
        "    class ColorTable(__builtin__.object)\n",
        "     |  Proxy of C++ GDALColorTableShadow class\n",
        "     |  \n",
        "     |  Methods defined here:\n",
        "     |  \n",
        "     |  Clone(self, *args)\n",
        "     |      Clone(self) -> ColorTable\n",
        "     |  \n",
        "     |  CreateColorRamp(self, *args)\n",
        "     |      CreateColorRamp(self, int nStartIndex, ColorEntry startcolor, int nEndIndex, \n",
        "     |          ColorEntry endcolor)\n",
        "     |  \n",
        "     |  GetColorEntry(self, *args)\n",
        "     |      GetColorEntry(self, int entry) -> ColorEntry\n",
        "     |  \n",
        "     |  GetColorEntryAsRGB(self, *args)\n",
        "     |      GetColorEntryAsRGB(self, int entry, ColorEntry centry) -> int\n",
        "     |  \n",
        "     |  GetCount(self, *args)\n",
        "     |      GetCount(self) -> int\n",
        "     |  \n",
        "     |  GetPaletteInterpretation(self, *args)\n",
        "     |      GetPaletteInterpretation(self) -> GDALPaletteInterp\n",
        "     |  \n",
        "     |  SetColorEntry(self, *args)\n",
        "     |      SetColorEntry(self, int entry, ColorEntry centry)\n",
        "     |  \n",
        "     |  __del__ lambda self\n",
        "     |  \n",
        "     |  __getattr__ lambda self, name\n",
        "     |  \n",
        "     |  __init__(self, *args, **kwargs)\n",
        "     |      __init__(self, GDALPaletteInterp palette = GPI_RGB) -> ColorTable\n",
        "     |  \n",
        "     |  __repr__ = _swig_repr(self)\n",
        "     |  \n",
        "     |  __setattr__ lambda self, name, value\n",
        "     |  \n",
        "     |  ----------------------------------------------------------------------\n",
        "     |  Data descriptors defined here:\n",
        "     |  \n",
        "     |  __dict__\n",
        "     |      dictionary for instance variables (if defined)\n",
        "     |  \n",
        "     |  __weakref__\n",
        "     |      list of weak references to the object (if defined)\n",
        "     |  \n",
        "     |  ----------------------------------------------------------------------\n",
        "     |  Data and other attributes defined here:\n",
        "     |  \n",
        "     |  __swig_destroy__ = <built-in function delete_ColorTable>\n",
        "     |      delete_ColorTable(ColorTable self)\n",
        "     |  \n",
        "     |  __swig_getmethods__ = {}\n",
        "     |  \n",
        "     |  __swig_setmethods__ = {}\n",
        "    \n",
        "    class Dataset(MajorObject)\n",
        "     |  Proxy of C++ GDALDatasetShadow class\n",
        "     |  \n",
        "     |  Method resolution order:\n",
        "     |      Dataset\n",
        "     |      MajorObject\n",
        "     |      __builtin__.object\n",
        "     |  \n",
        "     |  Methods defined here:\n",
        "     |  \n",
        "     |  AddBand(self, *args, **kwargs)\n",
        "     |      AddBand(self, GDALDataType datatype = GDT_Byte, char options = None) -> CPLErr\n",
        "     |  \n",
        "     |  BeginAsyncReader(self, xoff, yoff, xsize, ysize, buf_obj=None, buf_xsize=None, buf_ysize=None, buf_type=None, band_list=None, options=[])\n",
        "     |  \n",
        "     |  BuildOverviews(self, *args, **kwargs)\n",
        "     |      BuildOverviews(self, char resampling = \"NEAREST\", int overviewlist = 0, \n",
        "     |          GDALProgressFunc callback = None, void callback_data = None) -> int\n",
        "     |  \n",
        "     |  CreateMaskBand(self, *args)\n",
        "     |      CreateMaskBand(self, int nFlags) -> CPLErr\n",
        "     |  \n",
        "     |  EndAsyncReader(self, *args)\n",
        "     |      EndAsyncReader(self, AsyncReader ario)\n",
        "     |  \n",
        "     |  FlushCache(self, *args)\n",
        "     |      FlushCache(self)\n",
        "     |  \n",
        "     |  GetDriver(self, *args)\n",
        "     |      GetDriver(self) -> Driver\n",
        "     |  \n",
        "     |  GetFileList(self, *args)\n",
        "     |      GetFileList(self) -> char\n",
        "     |  \n",
        "     |  GetGCPCount(self, *args)\n",
        "     |      GetGCPCount(self) -> int\n",
        "     |  \n",
        "     |  GetGCPProjection(self, *args)\n",
        "     |      GetGCPProjection(self) -> char\n",
        "     |  \n",
        "     |  GetGCPs(self, *args)\n",
        "     |      GetGCPs(self)\n",
        "     |  \n",
        "     |  GetGeoTransform(self, *args, **kwargs)\n",
        "     |      GetGeoTransform(self, int can_return_null = None)\n",
        "     |  \n",
        "     |  GetProjection(self, *args)\n",
        "     |      GetProjection(self) -> char\n",
        "     |  \n",
        "     |  GetProjectionRef(self, *args)\n",
        "     |      GetProjectionRef(self) -> char\n",
        "     |  \n",
        "     |  GetRasterBand(self, *args)\n",
        "     |      GetRasterBand(self, int nBand) -> Band\n",
        "     |  \n",
        "     |  GetSubDatasets(self)\n",
        "     |  \n",
        "     |  ReadAsArray(self, xoff=0, yoff=0, xsize=None, ysize=None, buf_obj=None)\n",
        "     |  \n",
        "     |  ReadRaster(self, xoff, yoff, xsize, ysize, buf_xsize=None, buf_ysize=None, buf_type=None, band_list=None, buf_pixel_space=None, buf_line_space=None, buf_band_space=None)\n",
        "     |  \n",
        "     |  ReadRaster1(self, *args, **kwargs)\n",
        "     |      ReadRaster1(self, int xoff, int yoff, int xsize, int ysize, int buf_xsize = None, \n",
        "     |          int buf_ysize = None, GDALDataType buf_type = None, \n",
        "     |          int band_list = 0, int buf_pixel_space = None, \n",
        "     |          int buf_line_space = None, \n",
        "     |          int buf_band_space = None) -> CPLErr\n",
        "     |  \n",
        "     |  SetGCPs(self, *args)\n",
        "     |      SetGCPs(self, int nGCPs, char pszGCPProjection) -> CPLErr\n",
        "     |  \n",
        "     |  SetGeoTransform(self, *args)\n",
        "     |      SetGeoTransform(self, double argin) -> CPLErr\n",
        "     |  \n",
        "     |  SetProjection(self, *args)\n",
        "     |      SetProjection(self, char prj) -> CPLErr\n",
        "     |  \n",
        "     |  WriteRaster(self, xoff, yoff, xsize, ysize, buf_string, buf_xsize=None, buf_ysize=None, buf_type=None, band_list=None, buf_pixel_space=None, buf_line_space=None, buf_band_space=None)\n",
        "     |  \n",
        "     |  __del__ lambda self\n",
        "     |  \n",
        "     |  __getattr__ lambda self, name\n",
        "     |  \n",
        "     |  __init__(self, *args, **kwargs)\n",
        "     |  \n",
        "     |  __repr__ = _swig_repr(self)\n",
        "     |  \n",
        "     |  __setattr__ lambda self, name, value\n",
        "     |  \n",
        "     |  ----------------------------------------------------------------------\n",
        "     |  Data descriptors defined here:\n",
        "     |  \n",
        "     |  RasterCount\n",
        "     |      Dataset_RasterCount_get(Dataset self) -> int\n",
        "     |  \n",
        "     |  RasterXSize\n",
        "     |      Dataset_RasterXSize_get(Dataset self) -> int\n",
        "     |  \n",
        "     |  RasterYSize\n",
        "     |      Dataset_RasterYSize_get(Dataset self) -> int\n",
        "     |  \n",
        "     |  ----------------------------------------------------------------------\n",
        "     |  Data and other attributes defined here:\n",
        "     |  \n",
        "     |  __swig_destroy__ = <built-in function delete_Dataset>\n",
        "     |      delete_Dataset(Dataset self)\n",
        "     |  \n",
        "     |  __swig_getmethods__ = {'RasterCount': <built-in function Dataset_Raste...\n",
        "     |  \n",
        "     |  __swig_setmethods__ = {}\n",
        "     |  \n",
        "     |  ----------------------------------------------------------------------\n",
        "     |  Methods inherited from MajorObject:\n",
        "     |  \n",
        "     |  GetDescription(self, *args)\n",
        "     |      GetDescription(self) -> char\n",
        "     |  \n",
        "     |  GetMetadata(self, domain='')\n",
        "     |  \n",
        "     |  GetMetadataItem(self, *args)\n",
        "     |      GetMetadataItem(self, char pszName, char pszDomain = \"\") -> char\n",
        "     |  \n",
        "     |  GetMetadata_Dict(self, *args)\n",
        "     |      GetMetadata_Dict(self, char pszDomain = \"\") -> char\n",
        "     |  \n",
        "     |  GetMetadata_List(self, *args)\n",
        "     |      GetMetadata_List(self, char pszDomain = \"\") -> char\n",
        "     |  \n",
        "     |  SetDescription(self, *args)\n",
        "     |      SetDescription(self, char pszNewDesc)\n",
        "     |  \n",
        "     |  SetMetadata(self, *args)\n",
        "     |      SetMetadata(self, char papszMetadata, char pszDomain = \"\") -> CPLErr\n",
        "     |      SetMetadata(self, char pszMetadataString, char pszDomain = \"\") -> CPLErr\n",
        "     |  \n",
        "     |  SetMetadataItem(self, *args)\n",
        "     |      SetMetadataItem(self, char pszName, char pszValue, char pszDomain = \"\") -> CPLErr\n",
        "     |  \n",
        "     |  ----------------------------------------------------------------------\n",
        "     |  Data descriptors inherited from MajorObject:\n",
        "     |  \n",
        "     |  __dict__\n",
        "     |      dictionary for instance variables (if defined)\n",
        "     |  \n",
        "     |  __weakref__\n",
        "     |      list of weak references to the object (if defined)\n",
        "    \n",
        "    class Driver(MajorObject)\n",
        "     |  Proxy of C++ GDALDriverShadow class\n",
        "     |  \n",
        "     |  Method resolution order:\n",
        "     |      Driver\n",
        "     |      MajorObject\n",
        "     |      __builtin__.object\n",
        "     |  \n",
        "     |  Methods defined here:\n",
        "     |  \n",
        "     |  CopyFiles(self, *args)\n",
        "     |      CopyFiles(self, char newName, char oldName) -> int\n",
        "     |  \n",
        "     |  Create(self, *args, **kwargs)\n",
        "     |      Create(self, char utf8_path, int xsize, int ysize, int bands = 1, \n",
        "     |          GDALDataType eType = GDT_Byte, char options = None) -> Dataset\n",
        "     |  \n",
        "     |  CreateCopy(self, *args, **kwargs)\n",
        "     |      CreateCopy(self, char utf8_path, Dataset src, int strict = 1, char options = None, \n",
        "     |          GDALProgressFunc callback = None, \n",
        "     |          void callback_data = None) -> Dataset\n",
        "     |  \n",
        "     |  Delete(self, *args)\n",
        "     |      Delete(self, char utf8_path) -> int\n",
        "     |  \n",
        "     |  Deregister(self, *args)\n",
        "     |      Deregister(self)\n",
        "     |  \n",
        "     |  Register(self, *args)\n",
        "     |      Register(self) -> int\n",
        "     |  \n",
        "     |  Rename(self, *args)\n",
        "     |      Rename(self, char newName, char oldName) -> int\n",
        "     |  \n",
        "     |  __getattr__ lambda self, name\n",
        "     |  \n",
        "     |  __init__(self, *args, **kwargs)\n",
        "     |  \n",
        "     |  __repr__ = _swig_repr(self)\n",
        "     |  \n",
        "     |  __setattr__ lambda self, name, value\n",
        "     |  \n",
        "     |  ----------------------------------------------------------------------\n",
        "     |  Data descriptors defined here:\n",
        "     |  \n",
        "     |  HelpTopic\n",
        "     |      Driver_HelpTopic_get(Driver self) -> char\n",
        "     |  \n",
        "     |  LongName\n",
        "     |      Driver_LongName_get(Driver self) -> char\n",
        "     |  \n",
        "     |  ShortName\n",
        "     |      Driver_ShortName_get(Driver self) -> char\n",
        "     |  \n",
        "     |  ----------------------------------------------------------------------\n",
        "     |  Data and other attributes defined here:\n",
        "     |  \n",
        "     |  __swig_getmethods__ = {'HelpTopic': <built-in function Driver_HelpTopi...\n",
        "     |  \n",
        "     |  __swig_setmethods__ = {}\n",
        "     |  \n",
        "     |  ----------------------------------------------------------------------\n",
        "     |  Methods inherited from MajorObject:\n",
        "     |  \n",
        "     |  GetDescription(self, *args)\n",
        "     |      GetDescription(self) -> char\n",
        "     |  \n",
        "     |  GetMetadata(self, domain='')\n",
        "     |  \n",
        "     |  GetMetadataItem(self, *args)\n",
        "     |      GetMetadataItem(self, char pszName, char pszDomain = \"\") -> char\n",
        "     |  \n",
        "     |  GetMetadata_Dict(self, *args)\n",
        "     |      GetMetadata_Dict(self, char pszDomain = \"\") -> char\n",
        "     |  \n",
        "     |  GetMetadata_List(self, *args)\n",
        "     |      GetMetadata_List(self, char pszDomain = \"\") -> char\n",
        "     |  \n",
        "     |  SetDescription(self, *args)\n",
        "     |      SetDescription(self, char pszNewDesc)\n",
        "     |  \n",
        "     |  SetMetadata(self, *args)\n",
        "     |      SetMetadata(self, char papszMetadata, char pszDomain = \"\") -> CPLErr\n",
        "     |      SetMetadata(self, char pszMetadataString, char pszDomain = \"\") -> CPLErr\n",
        "     |  \n",
        "     |  SetMetadataItem(self, *args)\n",
        "     |      SetMetadataItem(self, char pszName, char pszValue, char pszDomain = \"\") -> CPLErr\n",
        "     |  \n",
        "     |  ----------------------------------------------------------------------\n",
        "     |  Data descriptors inherited from MajorObject:\n",
        "     |  \n",
        "     |  __dict__\n",
        "     |      dictionary for instance variables (if defined)\n",
        "     |  \n",
        "     |  __weakref__\n",
        "     |      list of weak references to the object (if defined)\n",
        "    \n",
        "    class GCP(__builtin__.object)\n",
        "     |  Proxy of C++ GDAL_GCP class\n",
        "     |  \n",
        "     |  Methods defined here:\n",
        "     |  \n",
        "     |  __del__ lambda self\n",
        "     |  \n",
        "     |  __getattr__ lambda self, name\n",
        "     |  \n",
        "     |  __init__(self, *args)\n",
        "     |      __init__(self, double x = 0.0, double y = 0.0, double z = 0.0, double pixel = 0.0, \n",
        "     |          double line = 0.0, char info = \"\", \n",
        "     |          char id = \"\") -> GCP\n",
        "     |  \n",
        "     |  __repr__ = _swig_repr(self)\n",
        "     |  \n",
        "     |  __setattr__ lambda self, name, value\n",
        "     |  \n",
        "     |  __str__(self)\n",
        "     |  \n",
        "     |  serialize(self, with_Z=0)\n",
        "     |  \n",
        "     |  ----------------------------------------------------------------------\n",
        "     |  Data descriptors defined here:\n",
        "     |  \n",
        "     |  GCPLine\n",
        "     |      GCP_GCPLine_get(GCP self) -> double\n",
        "     |  \n",
        "     |  GCPPixel\n",
        "     |      GCP_GCPPixel_get(GCP self) -> double\n",
        "     |  \n",
        "     |  GCPX\n",
        "     |      GCP_GCPX_get(GCP self) -> double\n",
        "     |  \n",
        "     |  GCPY\n",
        "     |      GCP_GCPY_get(GCP self) -> double\n",
        "     |  \n",
        "     |  GCPZ\n",
        "     |      GCP_GCPZ_get(GCP self) -> double\n",
        "     |  \n",
        "     |  Id\n",
        "     |      GCP_Id_get(GCP self) -> char\n",
        "     |  \n",
        "     |  Info\n",
        "     |      GCP_Info_get(GCP self) -> char\n",
        "     |  \n",
        "     |  __dict__\n",
        "     |      dictionary for instance variables (if defined)\n",
        "     |  \n",
        "     |  __weakref__\n",
        "     |      list of weak references to the object (if defined)\n",
        "     |  \n",
        "     |  ----------------------------------------------------------------------\n",
        "     |  Data and other attributes defined here:\n",
        "     |  \n",
        "     |  __swig_destroy__ = <built-in function delete_GCP>\n",
        "     |      delete_GCP(GCP self)\n",
        "     |  \n",
        "     |  __swig_getmethods__ = {'GCPLine': <built-in function GCP_GCPLine_get>,...\n",
        "     |  \n",
        "     |  __swig_setmethods__ = {'GCPLine': <built-in function GCP_GCPLine_set>,...\n",
        "    \n",
        "    class MajorObject(__builtin__.object)\n",
        "     |  Proxy of C++ GDALMajorObjectShadow class\n",
        "     |  \n",
        "     |  Methods defined here:\n",
        "     |  \n",
        "     |  GetDescription(self, *args)\n",
        "     |      GetDescription(self) -> char\n",
        "     |  \n",
        "     |  GetMetadata(self, domain='')\n",
        "     |  \n",
        "     |  GetMetadataItem(self, *args)\n",
        "     |      GetMetadataItem(self, char pszName, char pszDomain = \"\") -> char\n",
        "     |  \n",
        "     |  GetMetadata_Dict(self, *args)\n",
        "     |      GetMetadata_Dict(self, char pszDomain = \"\") -> char\n",
        "     |  \n",
        "     |  GetMetadata_List(self, *args)\n",
        "     |      GetMetadata_List(self, char pszDomain = \"\") -> char\n",
        "     |  \n",
        "     |  SetDescription(self, *args)\n",
        "     |      SetDescription(self, char pszNewDesc)\n",
        "     |  \n",
        "     |  SetMetadata(self, *args)\n",
        "     |      SetMetadata(self, char papszMetadata, char pszDomain = \"\") -> CPLErr\n",
        "     |      SetMetadata(self, char pszMetadataString, char pszDomain = \"\") -> CPLErr\n",
        "     |  \n",
        "     |  SetMetadataItem(self, *args)\n",
        "     |      SetMetadataItem(self, char pszName, char pszValue, char pszDomain = \"\") -> CPLErr\n",
        "     |  \n",
        "     |  __getattr__ lambda self, name\n",
        "     |  \n",
        "     |  __init__(self, *args, **kwargs)\n",
        "     |  \n",
        "     |  __repr__ = _swig_repr(self)\n",
        "     |  \n",
        "     |  __setattr__ lambda self, name, value\n",
        "     |  \n",
        "     |  ----------------------------------------------------------------------\n",
        "     |  Data descriptors defined here:\n",
        "     |  \n",
        "     |  __dict__\n",
        "     |      dictionary for instance variables (if defined)\n",
        "     |  \n",
        "     |  __weakref__\n",
        "     |      list of weak references to the object (if defined)\n",
        "     |  \n",
        "     |  ----------------------------------------------------------------------\n",
        "     |  Data and other attributes defined here:\n",
        "     |  \n",
        "     |  __swig_getmethods__ = {}\n",
        "     |  \n",
        "     |  __swig_setmethods__ = {}\n",
        "    \n",
        "    class RasterAttributeTable(__builtin__.object)\n",
        "     |  Proxy of C++ GDALRasterAttributeTableShadow class\n",
        "     |  \n",
        "     |  Methods defined here:\n",
        "     |  \n",
        "     |  Clone(self, *args)\n",
        "     |      Clone(self) -> RasterAttributeTable\n",
        "     |  \n",
        "     |  CreateColumn(self, *args)\n",
        "     |      CreateColumn(self, char pszName, GDALRATFieldType eType, GDALRATFieldUsage eUsage) -> int\n",
        "     |  \n",
        "     |  GetColOfUsage(self, *args)\n",
        "     |      GetColOfUsage(self, GDALRATFieldUsage eUsage) -> int\n",
        "     |  \n",
        "     |  GetColumnCount(self, *args)\n",
        "     |      GetColumnCount(self) -> int\n",
        "     |  \n",
        "     |  GetLinearBinning(self, *args)\n",
        "     |      GetLinearBinning(self) -> bool\n",
        "     |  \n",
        "     |  GetNameOfCol(self, *args)\n",
        "     |      GetNameOfCol(self, int iCol) -> char\n",
        "     |  \n",
        "     |  GetRowCount(self, *args)\n",
        "     |      GetRowCount(self) -> int\n",
        "     |  \n",
        "     |  GetRowOfValue(self, *args)\n",
        "     |      GetRowOfValue(self, double dfValue) -> int\n",
        "     |  \n",
        "     |  GetTypeOfCol(self, *args)\n",
        "     |      GetTypeOfCol(self, int iCol) -> GDALRATFieldType\n",
        "     |  \n",
        "     |  GetUsageOfCol(self, *args)\n",
        "     |      GetUsageOfCol(self, int iCol) -> GDALRATFieldUsage\n",
        "     |  \n",
        "     |  GetValueAsDouble(self, *args)\n",
        "     |      GetValueAsDouble(self, int iRow, int iCol) -> double\n",
        "     |  \n",
        "     |  GetValueAsInt(self, *args)\n",
        "     |      GetValueAsInt(self, int iRow, int iCol) -> int\n",
        "     |  \n",
        "     |  GetValueAsString(self, *args)\n",
        "     |      GetValueAsString(self, int iRow, int iCol) -> char\n",
        "     |  \n",
        "     |  SetLinearBinning(self, *args)\n",
        "     |      SetLinearBinning(self, double dfRow0Min, double dfBinSize) -> int\n",
        "     |  \n",
        "     |  SetRowCount(self, *args)\n",
        "     |      SetRowCount(self, int nCount)\n",
        "     |  \n",
        "     |  SetValueAsDouble(self, *args)\n",
        "     |      SetValueAsDouble(self, int iRow, int iCol, double dfValue)\n",
        "     |  \n",
        "     |  SetValueAsInt(self, *args)\n",
        "     |      SetValueAsInt(self, int iRow, int iCol, int nValue)\n",
        "     |  \n",
        "     |  SetValueAsString(self, *args)\n",
        "     |      SetValueAsString(self, int iRow, int iCol, char pszValue)\n",
        "     |  \n",
        "     |  __del__ lambda self\n",
        "     |  \n",
        "     |  __getattr__ lambda self, name\n",
        "     |  \n",
        "     |  __init__(self, *args)\n",
        "     |      __init__(self) -> RasterAttributeTable\n",
        "     |  \n",
        "     |  __repr__ = _swig_repr(self)\n",
        "     |  \n",
        "     |  __setattr__ lambda self, name, value\n",
        "     |  \n",
        "     |  ----------------------------------------------------------------------\n",
        "     |  Data descriptors defined here:\n",
        "     |  \n",
        "     |  __dict__\n",
        "     |      dictionary for instance variables (if defined)\n",
        "     |  \n",
        "     |  __weakref__\n",
        "     |      list of weak references to the object (if defined)\n",
        "     |  \n",
        "     |  ----------------------------------------------------------------------\n",
        "     |  Data and other attributes defined here:\n",
        "     |  \n",
        "     |  __swig_destroy__ = <built-in function delete_RasterAttributeTable>\n",
        "     |      delete_RasterAttributeTable(RasterAttributeTable self)\n",
        "     |  \n",
        "     |  __swig_getmethods__ = {}\n",
        "     |  \n",
        "     |  __swig_setmethods__ = {}\n",
        "    \n",
        "    class StatBuf(__builtin__.object)\n",
        "     |  Proxy of C++ StatBuf class\n",
        "     |  \n",
        "     |  Methods defined here:\n",
        "     |  \n",
        "     |  IsDirectory(self, *args)\n",
        "     |      IsDirectory(self) -> int\n",
        "     |  \n",
        "     |  __del__ lambda self\n",
        "     |  \n",
        "     |  __getattr__ lambda self, name\n",
        "     |  \n",
        "     |  __init__(self, *args)\n",
        "     |      __init__(self, StatBuf psStatBuf) -> StatBuf\n",
        "     |  \n",
        "     |  __repr__ = _swig_repr(self)\n",
        "     |  \n",
        "     |  __setattr__ lambda self, name, value\n",
        "     |  \n",
        "     |  ----------------------------------------------------------------------\n",
        "     |  Data descriptors defined here:\n",
        "     |  \n",
        "     |  __dict__\n",
        "     |      dictionary for instance variables (if defined)\n",
        "     |  \n",
        "     |  __weakref__\n",
        "     |      list of weak references to the object (if defined)\n",
        "     |  \n",
        "     |  mode\n",
        "     |      StatBuf_mode_get(StatBuf self) -> int\n",
        "     |  \n",
        "     |  mtime\n",
        "     |      StatBuf_mtime_get(StatBuf self) -> GIntBig\n",
        "     |  \n",
        "     |  size\n",
        "     |      StatBuf_size_get(StatBuf self) -> GIntBig\n",
        "     |  \n",
        "     |  ----------------------------------------------------------------------\n",
        "     |  Data and other attributes defined here:\n",
        "     |  \n",
        "     |  __swig_destroy__ = <built-in function delete_StatBuf>\n",
        "     |      delete_StatBuf(StatBuf self)\n",
        "     |  \n",
        "     |  __swig_getmethods__ = {'mode': <built-in function StatBuf_mode_get>, '...\n",
        "     |  \n",
        "     |  __swig_setmethods__ = {}\n",
        "    \n",
        "    class Transformer(__builtin__.object)\n",
        "     |  Proxy of C++ GDALTransformerInfoShadow class\n",
        "     |  \n",
        "     |  Methods defined here:\n",
        "     |  \n",
        "     |  TransformPoint(self, *args)\n",
        "     |      TransformPoint(self, int bDstToSrc, double inout) -> int\n",
        "     |      TransformPoint(self, int bDstToSrc, double x, double y, double z = 0.0) -> int\n",
        "     |  \n",
        "     |  TransformPoints(self, *args)\n",
        "     |      TransformPoints(self, int bDstToSrc, int nCount) -> int\n",
        "     |  \n",
        "     |  __del__ lambda self\n",
        "     |  \n",
        "     |  __getattr__ lambda self, name\n",
        "     |  \n",
        "     |  __init__(self, *args)\n",
        "     |      __init__(self, Dataset src, Dataset dst, char options) -> Transformer\n",
        "     |  \n",
        "     |  __repr__ = _swig_repr(self)\n",
        "     |  \n",
        "     |  __setattr__ lambda self, name, value\n",
        "     |  \n",
        "     |  ----------------------------------------------------------------------\n",
        "     |  Data descriptors defined here:\n",
        "     |  \n",
        "     |  __dict__\n",
        "     |      dictionary for instance variables (if defined)\n",
        "     |  \n",
        "     |  __weakref__\n",
        "     |      list of weak references to the object (if defined)\n",
        "     |  \n",
        "     |  ----------------------------------------------------------------------\n",
        "     |  Data and other attributes defined here:\n",
        "     |  \n",
        "     |  __swig_destroy__ = <built-in function delete_Transformer>\n",
        "     |      delete_Transformer(Transformer self)\n",
        "     |  \n",
        "     |  __swig_getmethods__ = {}\n",
        "     |  \n",
        "     |  __swig_setmethods__ = {}\n",
        "\n",
        "FUNCTIONS\n",
        "    AllRegister(...)\n",
        "        AllRegister()\n",
        "    \n",
        "    ApplyGeoTransform(...)\n",
        "        ApplyGeoTransform(double padfGeoTransform, double dfPixel, double dfLine)\n",
        "    \n",
        "    AsyncReader_swigregister(...)\n",
        "    \n",
        "    AutoCreateWarpedVRT(...)\n",
        "        AutoCreateWarpedVRT(Dataset src_ds, char src_wkt = None, char dst_wkt = None, \n",
        "            GDALResampleAlg eResampleAlg = GRA_NearestNeighbour, \n",
        "            double maxerror = 0.0) -> Dataset\n",
        "    \n",
        "    Band_swigregister(...)\n",
        "    \n",
        "    CPLBinaryToHex(*args)\n",
        "        CPLBinaryToHex(int nBytes) -> retStringAndCPLFree\n",
        "    \n",
        "    CPLHexToBinary(*args)\n",
        "        CPLHexToBinary(char pszHex, int pnBytes) -> GByte\n",
        "    \n",
        "    ColorEntry_swigregister(...)\n",
        "    \n",
        "    ColorTable_swigregister(...)\n",
        "    \n",
        "    ComputeMedianCutPCT(...)\n",
        "        ComputeMedianCutPCT(Band red, Band green, Band blue, int num_colors, ColorTable colors, \n",
        "            GDALProgressFunc callback = None, \n",
        "            void callback_data = None) -> int\n",
        "    \n",
        "    ComputeProximity(...)\n",
        "        ComputeProximity(Band srcBand, Band proximityBand, char options = None, \n",
        "            GDALProgressFunc callback = None, void callback_data = None) -> int\n",
        "    \n",
        "    ContourGenerate(...)\n",
        "        ContourGenerate(Band srcBand, double contourInterval, double contourBase, \n",
        "            int fixedLevelCount, int useNoData, double noDataValue, \n",
        "            OGRLayerShadow dstLayer, int idField, \n",
        "            int elevField, GDALProgressFunc callback = None, \n",
        "            void callback_data = None) -> int\n",
        "    \n",
        "    DataTypeIsComplex(...)\n",
        "        DataTypeIsComplex(GDALDataType eDataType) -> int\n",
        "    \n",
        "    Dataset_swigregister(...)\n",
        "    \n",
        "    Debug(*args)\n",
        "        Debug(char msg_class, char message)\n",
        "    \n",
        "    DecToDMS(...)\n",
        "        DecToDMS(double arg0, char arg1, int arg2 = 2) -> char\n",
        "    \n",
        "    DecToPackedDMS(...)\n",
        "        DecToPackedDMS(double dfDec) -> double\n",
        "    \n",
        "    DitherRGB2PCT(...)\n",
        "        DitherRGB2PCT(Band red, Band green, Band blue, Band target, ColorTable colors, \n",
        "            GDALProgressFunc callback = None, \n",
        "            void callback_data = None) -> int\n",
        "    \n",
        "    DontUseExceptions(*args)\n",
        "        DontUseExceptions()\n",
        "    \n",
        "    Driver_swigregister(...)\n",
        "    \n",
        "    Error(*args)\n",
        "        Error(CPLErr msg_class = CE_Failure, int err_code = 0, char msg = \"error\")\n",
        "    \n",
        "    ErrorReset(*args)\n",
        "        ErrorReset()\n",
        "    \n",
        "    EscapeString(*args, **kwargs)\n",
        "        EscapeString(int len, int scheme = CPLES_SQL) -> retStringAndCPLFree\n",
        "    \n",
        "    FileFromMemBuffer(*args)\n",
        "        FileFromMemBuffer(char utf8_path, int nBytes)\n",
        "    \n",
        "    FillNodata(...)\n",
        "        FillNodata(Band targetBand, Band maskBand, double maxSearchDist, \n",
        "            int smoothingIterations, char options = None, \n",
        "            GDALProgressFunc callback = None, void callback_data = None) -> int\n",
        "    \n",
        "    FindFile(*args)\n",
        "        FindFile(char pszClass, char utf8_path) -> char\n",
        "    \n",
        "    FinderClean(*args)\n",
        "        FinderClean()\n",
        "    \n",
        "    GCP_swigregister(...)\n",
        "    \n",
        "    GCPsToGeoTransform(*args)\n",
        "        GCPsToGeoTransform(int nGCPs, int bApproxOK = 1) -> RETURN_NONE\n",
        "    \n",
        "    GDALDestroyDriverManager(...)\n",
        "        GDALDestroyDriverManager()\n",
        "    \n",
        "    GDAL_GCP_GCPLine_get(*args)\n",
        "        GDAL_GCP_GCPLine_get(GCP gcp) -> double\n",
        "    \n",
        "    GDAL_GCP_GCPLine_set(*args)\n",
        "        GDAL_GCP_GCPLine_set(GCP gcp, double dfGCPLine)\n",
        "    \n",
        "    GDAL_GCP_GCPPixel_get(*args)\n",
        "        GDAL_GCP_GCPPixel_get(GCP gcp) -> double\n",
        "    \n",
        "    GDAL_GCP_GCPPixel_set(*args)\n",
        "        GDAL_GCP_GCPPixel_set(GCP gcp, double dfGCPPixel)\n",
        "    \n",
        "    GDAL_GCP_GCPX_get(*args)\n",
        "        GDAL_GCP_GCPX_get(GCP gcp) -> double\n",
        "    \n",
        "    GDAL_GCP_GCPX_set(*args)\n",
        "        GDAL_GCP_GCPX_set(GCP gcp, double dfGCPX)\n",
        "    \n",
        "    GDAL_GCP_GCPY_get(*args)\n",
        "        GDAL_GCP_GCPY_get(GCP gcp) -> double\n",
        "    \n",
        "    GDAL_GCP_GCPY_set(*args)\n",
        "        GDAL_GCP_GCPY_set(GCP gcp, double dfGCPY)\n",
        "    \n",
        "    GDAL_GCP_GCPZ_get(*args)\n",
        "        GDAL_GCP_GCPZ_get(GCP gcp) -> double\n",
        "    \n",
        "    GDAL_GCP_GCPZ_set(*args)\n",
        "        GDAL_GCP_GCPZ_set(GCP gcp, double dfGCPZ)\n",
        "    \n",
        "    GDAL_GCP_Id_get(*args)\n",
        "        GDAL_GCP_Id_get(GCP gcp) -> char\n",
        "    \n",
        "    GDAL_GCP_Id_set(*args)\n",
        "        GDAL_GCP_Id_set(GCP gcp, char pszId)\n",
        "    \n",
        "    GDAL_GCP_Info_get(*args)\n",
        "        GDAL_GCP_Info_get(GCP gcp) -> char\n",
        "    \n",
        "    GDAL_GCP_Info_set(*args)\n",
        "        GDAL_GCP_Info_set(GCP gcp, char pszInfo)\n",
        "    \n",
        "    GDAL_GCP_get_GCPLine(*args)\n",
        "        GDAL_GCP_get_GCPLine(GCP gcp) -> double\n",
        "    \n",
        "    GDAL_GCP_get_GCPPixel(*args)\n",
        "        GDAL_GCP_get_GCPPixel(GCP gcp) -> double\n",
        "    \n",
        "    GDAL_GCP_get_GCPX(*args)\n",
        "        GDAL_GCP_get_GCPX(GCP gcp) -> double\n",
        "    \n",
        "    GDAL_GCP_get_GCPY(*args)\n",
        "        GDAL_GCP_get_GCPY(GCP gcp) -> double\n",
        "    \n",
        "    GDAL_GCP_get_GCPZ(*args)\n",
        "        GDAL_GCP_get_GCPZ(GCP gcp) -> double\n",
        "    \n",
        "    GDAL_GCP_get_Id(*args)\n",
        "        GDAL_GCP_get_Id(GCP gcp) -> char\n",
        "    \n",
        "    GDAL_GCP_get_Info(*args)\n",
        "        GDAL_GCP_get_Info(GCP gcp) -> char\n",
        "    \n",
        "    GDAL_GCP_set_GCPLine(*args)\n",
        "        GDAL_GCP_set_GCPLine(GCP gcp, double dfGCPLine)\n",
        "    \n",
        "    GDAL_GCP_set_GCPPixel(*args)\n",
        "        GDAL_GCP_set_GCPPixel(GCP gcp, double dfGCPPixel)\n",
        "    \n",
        "    GDAL_GCP_set_GCPX(*args)\n",
        "        GDAL_GCP_set_GCPX(GCP gcp, double dfGCPX)\n",
        "    \n",
        "    GDAL_GCP_set_GCPY(*args)\n",
        "        GDAL_GCP_set_GCPY(GCP gcp, double dfGCPY)\n",
        "    \n",
        "    GDAL_GCP_set_GCPZ(*args)\n",
        "        GDAL_GCP_set_GCPZ(GCP gcp, double dfGCPZ)\n",
        "    \n",
        "    GDAL_GCP_set_Id(*args)\n",
        "        GDAL_GCP_set_Id(GCP gcp, char pszId)\n",
        "    \n",
        "    GDAL_GCP_set_Info(*args)\n",
        "        GDAL_GCP_set_Info(GCP gcp, char pszInfo)\n",
        "    \n",
        "    GeneralCmdLineProcessor(...)\n",
        "        GeneralCmdLineProcessor(char papszArgv, int nOptions = 0) -> char\n",
        "    \n",
        "    GetCacheMax(...)\n",
        "        GetCacheMax() -> GIntBig\n",
        "    \n",
        "    GetCacheUsed(...)\n",
        "        GetCacheUsed() -> GIntBig\n",
        "    \n",
        "    GetColorInterpretationName(...)\n",
        "        GetColorInterpretationName(GDALColorInterp eColorInterp) -> char\n",
        "    \n",
        "    GetConfigOption(*args)\n",
        "        GetConfigOption(char pszKey, char pszDefault = None) -> char\n",
        "    \n",
        "    GetDataTypeByName(...)\n",
        "        GetDataTypeByName(char pszDataTypeName) -> GDALDataType\n",
        "    \n",
        "    GetDataTypeName(...)\n",
        "        GetDataTypeName(GDALDataType eDataType) -> char\n",
        "    \n",
        "    GetDataTypeSize(...)\n",
        "        GetDataTypeSize(GDALDataType eDataType) -> int\n",
        "    \n",
        "    GetDriver(...)\n",
        "        GetDriver(int i) -> Driver\n",
        "    \n",
        "    GetDriverByName(...)\n",
        "        GetDriverByName(char name) -> Driver\n",
        "    \n",
        "    GetDriverCount(...)\n",
        "        GetDriverCount() -> int\n",
        "    \n",
        "    GetLastErrorMsg(*args)\n",
        "        GetLastErrorMsg() -> char\n",
        "    \n",
        "    GetLastErrorNo(*args)\n",
        "        GetLastErrorNo() -> int\n",
        "    \n",
        "    GetLastErrorType(*args)\n",
        "        GetLastErrorType() -> int\n",
        "    \n",
        "    GetPaletteInterpretationName(...)\n",
        "        GetPaletteInterpretationName(GDALPaletteInterp ePaletteInterp) -> char\n",
        "    \n",
        "    GetUseExceptions(*args)\n",
        "        GetUseExceptions() -> int\n",
        "    \n",
        "    HasThreadSupport(*args)\n",
        "        HasThreadSupport() -> int\n",
        "    \n",
        "    IdentifyDriver(...)\n",
        "        IdentifyDriver(char utf8_path, char papszSiblings = None) -> Driver\n",
        "    \n",
        "    InvGeoTransform(...)\n",
        "        InvGeoTransform(double gt_in) -> int\n",
        "    \n",
        "    MajorObject_swigregister(...)\n",
        "    \n",
        "    Mkdir(*args)\n",
        "        Mkdir(char utf8_path, int mode) -> int\n",
        "    \n",
        "    Open(...)\n",
        "        Open(char utf8_path, GDALAccess eAccess = GA_ReadOnly) -> Dataset\n",
        "    \n",
        "    OpenShared(...)\n",
        "        OpenShared(char utf8_path, GDALAccess eAccess = GA_ReadOnly) -> Dataset\n",
        "    \n",
        "    PackedDMSToDec(...)\n",
        "        PackedDMSToDec(double dfPacked) -> double\n",
        "    \n",
        "    ParseXMLString(...)\n",
        "        ParseXMLString(char pszXMLString) -> CPLXMLNode\n",
        "    \n",
        "    Polygonize(...)\n",
        "        Polygonize(Band srcBand, Band maskBand, OGRLayerShadow outLayer, \n",
        "            int iPixValField, char options = None, GDALProgressFunc callback = None, \n",
        "            void callback_data = None) -> int\n",
        "    \n",
        "    PopErrorHandler(*args)\n",
        "        PopErrorHandler()\n",
        "    \n",
        "    PopFinderLocation(*args)\n",
        "        PopFinderLocation()\n",
        "    \n",
        "    PushErrorHandler(*args)\n",
        "        PushErrorHandler(char pszCallbackName = None) -> CPLErr\n",
        "        PushErrorHandler(CPLErrorHandler arg0)\n",
        "    \n",
        "    PushFinderLocation(*args)\n",
        "        PushFinderLocation(char utf8_path)\n",
        "    \n",
        "    RGBFile2PCTFile(src_filename, dst_filename)\n",
        "    \n",
        "    RasterAttributeTable_swigregister(...)\n",
        "    \n",
        "    RasterizeLayer(...)\n",
        "        RasterizeLayer(Dataset dataset, int bands, OGRLayerShadow layer, void pfnTransformer = None, \n",
        "            void pTransformArg = None, \n",
        "            int burn_values = 0, char options = None, \n",
        "            GDALProgressFunc callback = None, void callback_data = None) -> int\n",
        "    \n",
        "    ReadDir(*args)\n",
        "        ReadDir(char utf8_path) -> char\n",
        "    \n",
        "    RegenerateOverview(...)\n",
        "        RegenerateOverview(Band srcBand, Band overviewBand, char resampling = \"average\", \n",
        "            GDALProgressFunc callback = None, \n",
        "            void callback_data = None) -> int\n",
        "    \n",
        "    RegenerateOverviews(...)\n",
        "        RegenerateOverviews(Band srcBand, int overviewBandCount, char resampling = \"average\", \n",
        "            GDALProgressFunc callback = None, \n",
        "            void callback_data = None) -> int\n",
        "    \n",
        "    Rename(*args)\n",
        "        Rename(char pszOld, char pszNew) -> int\n",
        "    \n",
        "    ReprojectImage(...)\n",
        "        ReprojectImage(Dataset src_ds, Dataset dst_ds, char src_wkt = None, \n",
        "            char dst_wkt = None, GDALResampleAlg eResampleAlg = GRA_NearestNeighbour, \n",
        "            double WarpMemoryLimit = 0.0, \n",
        "            double maxerror = 0.0, GDALProgressFunc callback = None, \n",
        "            void callback_data = None) -> CPLErr\n",
        "    \n",
        "    Rmdir(*args)\n",
        "        Rmdir(char utf8_path) -> int\n",
        "    \n",
        "    SerializeXMLTree(...)\n",
        "        SerializeXMLTree(CPLXMLNode xmlnode) -> retStringAndCPLFree\n",
        "    \n",
        "    SetCacheMax(...)\n",
        "        SetCacheMax(GIntBig nBytes)\n",
        "    \n",
        "    SetConfigOption(*args)\n",
        "        SetConfigOption(char pszKey, char pszValue)\n",
        "    \n",
        "    SieveFilter(...)\n",
        "        SieveFilter(Band srcBand, Band maskBand, Band dstBand, int threshold, \n",
        "            int connectedness = 4, char options = None, \n",
        "            GDALProgressFunc callback = None, void callback_data = None) -> int\n",
        "    \n",
        "    StatBuf_swigregister(...)\n",
        "    \n",
        "    TermProgress_nocb(*args, **kwargs)\n",
        "        TermProgress_nocb(double dfProgress, char pszMessage = None, void pData = None) -> int\n",
        "    \n",
        "    Transformer_swigregister(...)\n",
        "    \n",
        "    Unlink(*args)\n",
        "        Unlink(char utf8_path) -> int\n",
        "    \n",
        "    UseExceptions(*args)\n",
        "        UseExceptions()\n",
        "    \n",
        "    VSIFCloseL(*args)\n",
        "        VSIFCloseL(VSILFILE arg0)\n",
        "    \n",
        "    VSIFOpenL(*args)\n",
        "        VSIFOpenL(char utf8_path, char pszMode) -> VSILFILE\n",
        "    \n",
        "    VSIFReadL(*args)\n",
        "        VSIFReadL(int nMembSize, int nMembCount, VSILFILE fp) -> int\n",
        "    \n",
        "    VSIFSeekL(*args)\n",
        "        VSIFSeekL(VSILFILE arg0, GIntBig arg1, int arg2) -> int\n",
        "    \n",
        "    VSIFTellL(*args)\n",
        "        VSIFTellL(VSILFILE arg0) -> GIntBig\n",
        "    \n",
        "    VSIFTruncateL(*args)\n",
        "        VSIFTruncateL(VSILFILE arg0, GIntBig arg1) -> int\n",
        "    \n",
        "    VSIFWriteL(*args)\n",
        "        VSIFWriteL(int nLen, int size, int memb, VSILFILE f) -> int\n",
        "    \n",
        "    VSIStatL(*args)\n",
        "        VSIStatL(char utf8_path, int nFlags = 0) -> int\n",
        "    \n",
        "    VersionInfo(...)\n",
        "        VersionInfo(char request = \"VERSION_NUM\") -> char\n",
        "    \n",
        "    deprecation_warn(module)\n",
        "\n",
        "DATA\n",
        "    CE_Debug = 1\n",
        "    CE_Failure = 3\n",
        "    CE_Fatal = 4\n",
        "    CE_None = 0\n",
        "    CE_Warning = 2\n",
        "    CPLES_BackslashQuotable = 0\n",
        "    CPLES_CSV = 4\n",
        "    CPLES_SQL = 3\n",
        "    CPLES_URL = 2\n",
        "    CPLES_XML = 1\n",
        "    CPLE_AppDefined = 1\n",
        "    CPLE_AssertionFailed = 7\n",
        "    CPLE_FileIO = 3\n",
        "    CPLE_IllegalArg = 5\n",
        "    CPLE_NoWriteAccess = 8\n",
        "    CPLE_None = 0\n",
        "    CPLE_NotSupported = 6\n",
        "    CPLE_OpenFailed = 4\n",
        "    CPLE_OutOfMemory = 2\n",
        "    CPLE_UserInterrupt = 9\n",
        "    CXT_Attribute = 2\n",
        "    CXT_Comment = 3\n",
        "    CXT_Element = 0\n",
        "    CXT_Literal = 4\n",
        "    CXT_Text = 1\n",
        "    DCAP_CREATE = 'DCAP_CREATE'\n",
        "    DCAP_CREATECOPY = 'DCAP_CREATECOPY'\n",
        "    DCAP_VIRTUALIO = 'DCAP_VIRTUALIO'\n",
        "    DMD_CREATIONDATATYPES = 'DMD_CREATIONDATATYPES'\n",
        "    DMD_CREATIONOPTIONLIST = 'DMD_CREATIONOPTIONLIST'\n",
        "    DMD_EXTENSION = 'DMD_EXTENSION'\n",
        "    DMD_HELPTOPIC = 'DMD_HELPTOPIC'\n",
        "    DMD_LONGNAME = 'DMD_LONGNAME'\n",
        "    DMD_MIMETYPE = 'DMD_MIMETYPE'\n",
        "    GARIO_COMPLETE = 3\n",
        "    GARIO_ERROR = 2\n",
        "    GARIO_PENDING = 0\n",
        "    GARIO_UPDATE = 1\n",
        "    GA_ReadOnly = 0\n",
        "    GA_Update = 1\n",
        "    GCI_AlphaBand = 6\n",
        "    GCI_BlackBand = 13\n",
        "    GCI_BlueBand = 5\n",
        "    GCI_CyanBand = 10\n",
        "    GCI_GrayIndex = 1\n",
        "    GCI_GreenBand = 4\n",
        "    GCI_HueBand = 7\n",
        "    GCI_LightnessBand = 9\n",
        "    GCI_MagentaBand = 11\n",
        "    GCI_PaletteIndex = 2\n",
        "    GCI_RedBand = 3\n",
        "    GCI_SaturationBand = 8\n",
        "    GCI_Undefined = 0\n",
        "    GCI_YCbCr_CbBand = 15\n",
        "    GCI_YCbCr_CrBand = 16\n",
        "    GCI_YCbCr_YBand = 14\n",
        "    GCI_YellowBand = 12\n",
        "    GDT_Byte = 1\n",
        "    GDT_CFloat32 = 10\n",
        "    GDT_CFloat64 = 11\n",
        "    GDT_CInt16 = 8\n",
        "    GDT_CInt32 = 9\n",
        "    GDT_Float32 = 6\n",
        "    GDT_Float64 = 7\n",
        "    GDT_Int16 = 3\n",
        "    GDT_Int32 = 5\n",
        "    GDT_TypeCount = 12\n",
        "    GDT_UInt16 = 2\n",
        "    GDT_UInt32 = 4\n",
        "    GDT_Unknown = 0\n",
        "    GFT_Integer = 0\n",
        "    GFT_Real = 1\n",
        "    GFT_String = 2\n",
        "    GFU_Alpha = 9\n",
        "    GFU_AlphaMax = 17\n",
        "    GFU_AlphaMin = 13\n",
        "    GFU_Blue = 8\n",
        "    GFU_BlueMax = 16\n",
        "    GFU_BlueMin = 12\n",
        "    GFU_Generic = 0\n",
        "    GFU_Green = 7\n",
        "    GFU_GreenMax = 15\n",
        "    GFU_GreenMin = 11\n",
        "    GFU_Max = 4\n",
        "    GFU_MaxCount = 18\n",
        "    GFU_Min = 3\n",
        "    GFU_MinMax = 5\n",
        "    GFU_Name = 2\n",
        "    GFU_PixelCount = 1\n",
        "    GFU_Red = 6\n",
        "    GFU_RedMax = 14\n",
        "    GFU_RedMin = 10\n",
        "    GF_Read = 0\n",
        "    GF_Write = 1\n",
        "    GMF_ALL_VALID = 1\n",
        "    GMF_ALPHA = 4\n",
        "    GMF_NODATA = 8\n",
        "    GMF_PER_DATASET = 2\n",
        "    GPI_CMYK = 2\n",
        "    GPI_Gray = 0\n",
        "    GPI_HLS = 3\n",
        "    GPI_RGB = 1\n",
        "    GRA_Bilinear = 1\n",
        "    GRA_Cubic = 2\n",
        "    GRA_CubicSpline = 3\n",
        "    GRA_Lanczos = 4\n",
        "    GRA_NearestNeighbour = 0\n",
        "    TermProgress = <Swig Object of type 'int (*)(double,char const *,void ...\n",
        "    VSI_STAT_EXISTS_FLAG = 1\n",
        "    VSI_STAT_NATURE_FLAG = 2\n",
        "    VSI_STAT_SIZE_FLAG = 4\n",
        "    __version__ = '1.10.1'\n",
        "    array_modes = {1: '<t8', 2: '<u2', 3: '<i2', 4: '<u4', 5: '<i4', 6: '<...\n",
        "    byteorders = {'big': '>', 'little': '<'}\n",
        "    have_warned = 0\n",
        "\n",
        "VERSION\n",
        "    1.10.1\n",
        "\n",
        "\n"
       ]
      }
     ],
     "prompt_number": 16
    },
    {
     "cell_type": "code",
     "collapsed": false,
     "input": [
      "os.chdir('/Users/jduckles/tmp/MODIS/')"
     ],
     "language": "python",
     "metadata": {
      "slideshow": {
       "slide_type": "skip"
      }
     },
     "outputs": [],
     "prompt_number": 17
    },
    {
     "cell_type": "code",
     "collapsed": false,
     "input": [
      "# os.chdir('/data/vol10/education/courses/Duckles_programming/MODIS/')\n",
      "raster = gdal.Open('MOD09A1.A2004097.h09v05.005.2007265123110.ndvi.tif')"
     ],
     "language": "python",
     "metadata": {
      "slideshow": {
       "slide_type": "slide"
      }
     },
     "outputs": [],
     "prompt_number": 18
    },
    {
     "cell_type": "code",
     "collapsed": false,
     "input": [
      "print raster.RasterXSize\n",
      "print raster.RasterYSize\n",
      "print raster.RasterCount"
     ],
     "language": "python",
     "metadata": {
      "slideshow": {
       "slide_type": "fragment"
      }
     },
     "outputs": [
      {
       "output_type": "stream",
       "stream": "stdout",
       "text": [
        "2400\n",
        "2400\n",
        "1\n"
       ]
      }
     ],
     "prompt_number": 19
    },
    {
     "cell_type": "code",
     "collapsed": false,
     "input": [
      "# Geo transform lets us map pixel space to coordinate space\n",
      "raster.GetGeoTransform()"
     ],
     "language": "python",
     "metadata": {
      "slideshow": {
       "slide_type": "slide"
      }
     },
     "outputs": [
      {
       "metadata": {},
       "output_type": "pyout",
       "prompt_number": 20,
       "text": [
        "(-10007554.677, 463.312716527778, 0.0, 4447802.078667, 0.0, -463.312716527778)"
       ]
      }
     ],
     "prompt_number": 20
    },
    {
     "cell_type": "code",
     "collapsed": false,
     "input": [
      "# Lets make a dictionary with GeoTransform values.\n",
      "transform = dict(zip(['originX','weres','rotx','originY','roty','nsres'],raster.GetGeoTransform()))\n",
      "# ( top-left, w-e piexel res, rotation, top-left y, rotation, n-s pixel res ) \n",
      "print transform"
     ],
     "language": "python",
     "metadata": {
      "slideshow": {
       "slide_type": "fragment"
      }
     },
     "outputs": [
      {
       "output_type": "stream",
       "stream": "stdout",
       "text": [
        "{'roty': 0.0, 'rotx': 0.0, 'originY': 4447802.078667, 'originX': -10007554.677, 'weres': 463.312716527778, 'nsres': -463.312716527778}\n"
       ]
      }
     ],
     "prompt_number": 21
    },
    {
     "cell_type": "markdown",
     "metadata": {
      "slideshow": {
       "slide_type": "slide"
      }
     },
     "source": [
      "We'll make a helper function for us to go from coordinate space to row,col space.\n",
      "\n",
      "![GeoTransform2](files/images/GeoTransform/GeoTransform.001.jpg)"
     ]
    },
    {
     "cell_type": "code",
     "collapsed": false,
     "input": [
      "def computeoffset(x,y,transform):\n",
      "    xOffset = int((x - transform['originX']) / transform['weres'])\n",
      "    yOffset = int((y - transform['originY']) / transform['nsres'])\n",
      "    return (xOffset,yOffset)\n",
      "    "
     ],
     "language": "python",
     "metadata": {
      "slideshow": {
       "slide_type": "fragment"
      }
     },
     "outputs": [],
     "prompt_number": 22
    },
    {
     "cell_type": "code",
     "collapsed": false,
     "input": [
      "computeoffset(-10007554.677,4438802.078667, transform)"
     ],
     "language": "python",
     "metadata": {
      "slideshow": {
       "slide_type": "fragment"
      }
     },
     "outputs": [
      {
       "metadata": {},
       "output_type": "pyout",
       "prompt_number": 23,
       "text": [
        "(0, 19)"
       ]
      }
     ],
     "prompt_number": 23
    },
    {
     "cell_type": "markdown",
     "metadata": {
      "slideshow": {
       "slide_type": "slide"
      }
     },
     "source": [
      "# More helpful methods"
     ]
    },
    {
     "cell_type": "code",
     "collapsed": false,
     "input": [
      "# Get projection information\n",
      "raster.GetProjection()"
     ],
     "language": "python",
     "metadata": {
      "slideshow": {
       "slide_type": "fragment"
      }
     },
     "outputs": [
      {
       "metadata": {},
       "output_type": "pyout",
       "prompt_number": 24,
       "text": [
        "'PROJCS[\"unnamed\",GEOGCS[\"Unknown datum based upon the custom spheroid\",DATUM[\"unknown\",SPHEROID[\"unnamed\",6371007.181,0]],PRIMEM[\"Greenwich\",0],UNIT[\"degree\",0.0174532925199433]],PROJECTION[\"Sinusoidal\"],PARAMETER[\"longitude_of_center\",0],PARAMETER[\"false_easting\",0],PARAMETER[\"false_northing\",0],UNIT[\"metre\",1,AUTHORITY[\"EPSG\",\"9001\"]]]'"
       ]
      }
     ],
     "prompt_number": 24
    },
    {
     "cell_type": "code",
     "collapsed": false,
     "input": [
      "# Get metadata\n",
      "raster.GetMetadata()"
     ],
     "language": "python",
     "metadata": {
      "slideshow": {
       "slide_type": "fragment"
      }
     },
     "outputs": [
      {
       "metadata": {},
       "output_type": "pyout",
       "prompt_number": 25,
       "text": [
        "{'AREA_OR_POINT': 'Area',\n",
        " 'CALCULATION': 'NDIV computed from Band 1 and 2',\n",
        " 'TIFFTAG_DATETIME': '2008:11:09 00:15:32',\n",
        " 'TIFFTAG_DOCUMENTNAME': '/data/vol02/modis/products/mod09a1/geotiff/ndvi/2004/h09v05/MOD09A1.A2004097.h09v05.005.2007265123110.ndvi.tif',\n",
        " 'TIFFTAG_IMAGEDESCRIPTION': 'IDL TIFF file',\n",
        " 'TIFFTAG_RESOLUTIONUNIT': '2 (pixels/inch)',\n",
        " 'TIFFTAG_SOFTWARE': 'IDL 7.0.1, ITT Visual Information Solutions',\n",
        " 'TIFFTAG_XRESOLUTION': '100',\n",
        " 'TIFFTAG_YRESOLUTION': '100'}"
       ]
      }
     ],
     "prompt_number": 25
    },
    {
     "cell_type": "code",
     "collapsed": false,
     "input": [
      "raster.GetFileList()"
     ],
     "language": "python",
     "metadata": {
      "slideshow": {
       "slide_type": "fragment"
      }
     },
     "outputs": [
      {
       "metadata": {},
       "output_type": "pyout",
       "prompt_number": 26,
       "text": [
        "['MOD09A1.A2004097.h09v05.005.2007265123110.ndvi.tif',\n",
        " 'MOD09A1.A2004097.h09v05.005.2007265123110.ndvi.tif.aux.xml']"
       ]
      }
     ],
     "prompt_number": 26
    },
    {
     "cell_type": "markdown",
     "metadata": {
      "slideshow": {
       "slide_type": "slide"
      }
     },
     "source": [
      "We can look at a subset of the array and perform some calculations."
     ]
    },
    {
     "cell_type": "code",
     "collapsed": false,
     "input": [
      "subset = raster.ReadAsArray(xsize=300,ysize=300)\n",
      "print subset"
     ],
     "language": "python",
     "metadata": {
      "slideshow": {
       "slide_type": "fragment"
      }
     },
     "outputs": [
      {
       "output_type": "stream",
       "stream": "stdout",
       "text": [
        "[[ 0.24690001  0.25279999  0.25440001 ...,  0.2811      0.17910001\n",
        "   0.17910001]\n",
        " [ 0.2456      0.18080001  0.14049999 ...,  0.2437      0.17910001\n",
        "   0.26120001]\n",
        " [ 0.1996      0.1618      0.1964     ...,  0.26120001  0.26120001\n",
        "   0.26120001]\n",
        " ..., \n",
        " [ 0.15809999  0.16        0.1664     ...,  0.1706      0.16500001  0.1737    ]\n",
        " [ 0.16859999  0.17020001  0.17020001 ...,  0.16760001  0.156       0.154     ]\n",
        " [ 0.17020001  0.17020001  0.2014     ...,  0.1549      0.152       0.1499    ]]\n"
       ]
      }
     ],
     "prompt_number": 27
    },
    {
     "cell_type": "code",
     "collapsed": false,
     "input": [
      "thresh = numpy.where( subset > 0.2, subset, 0)"
     ],
     "language": "python",
     "metadata": {
      "slideshow": {
       "slide_type": "slide"
      }
     },
     "outputs": [],
     "prompt_number": 28
    },
    {
     "cell_type": "code",
     "collapsed": false,
     "input": [
      "import matplotlib.pyplot as plt\n",
      "print plt.imshow(thresh)"
     ],
     "language": "python",
     "metadata": {
      "slideshow": {
       "slide_type": "slide"
      }
     },
     "outputs": [
      {
       "output_type": "stream",
       "stream": "stdout",
       "text": [
        "AxesImage(60,40;372x248)\n"
       ]
      },
      {
       "metadata": {},
       "output_type": "display_data",
       "png": "[encoded data removed]",
       "text": [
        "<matplotlib.figure.Figure at 0x10306e990>"
       ]
      }
     ],
     "prompt_number": 29
    },
    {
     "cell_type": "markdown",
     "metadata": {
      "slideshow": {
       "slide_type": "slide"
      }
     },
     "source": [
      "# More numpy info\n",
      "\n",
      "* [NumPy for IDL Users](https://www.cfa.harvard.edu/~jbattat/computer/python/science/idl-numpy.html)\n",
      "* [NumPy for Matlab Users](http://mathesaurus.sourceforge.net/matlab-numpy.html)"
     ]
    },
    {
     "cell_type": "markdown",
     "metadata": {
      "slideshow": {
       "slide_type": "slide"
      }
     },
     "source": [
      "# VRT Virtual Raster \n",
      "\n",
      "Handy for stacking and mosaicing rasters without creating new files.\n",
      "\n",
      "Can also be used for:\n",
      "\n",
      "* On the fly reprojection\n",
      "* Masking\n",
      "* Color mapping\n",
      "* Scaling/offsetting raster values\n",
      "* Setting categorical names\n",
      "\n",
      "[More info](http://www.gdal.org/gdal_vrttut.html)\n",
      "\n",
      "Easiest way to get started is gdalbuildvrt utility.  It simply takes a list of Rasters and stacks them into a virtual Raster file.\n",
      "\n",
      "It is virtual because the file just points to the original files and makes a logical stack.\n",
      "\n"
     ]
    },
    {
     "cell_type": "markdown",
     "metadata": {
      "slideshow": {
       "slide_type": "slide"
      }
     },
     "source": [
      "```\n",
      "gdalbuildvrt stack.vrt *.TIF\n",
      "    \n",
      "```"
     ]
    },
    {
     "cell_type": "markdown",
     "metadata": {
      "slideshow": {
       "slide_type": "fragment"
      }
     },
     "source": [
      "\n",
      "```\n",
      "<VRTDataset rasterXSize=\"6996\" rasterYSize=\"6173\">\n",
      "  <SRS>PROJCS[&quot;WGS 84 / UTM zone 14N&quot;,GEOGCS[&quot;WGS 84&quot;,DATUM[&quot;WGS_1984&quot;,SPHEROID[&quot;WGS 84&quot;,6378137,298.257223563,AUTHORITY[&quot;EPSG&quot;,&quot;7030&quot;]],AUTHORITY[&quot;EPSG&quot;,&quot;6326&quot;]],PRIMEM[&quot;Greenwich&quot;,0],UNIT[&quot;degree&quot;,0.0174532925199433],AUTHORITY[&quot;EPSG&quot;,&quot;4326&quot;]],PROJECTION[&quot;Transverse_Mercator&quot;],PARAMETER[&quot;latitude_of_origin&quot;,0],PARAMETER[&quot;central_meridian&quot;,-99],PARAMETER[&quot;scale_factor&quot;,0.9996],PARAMETER[&quot;false_easting&quot;,500000],PARAMETER[&quot;false_northing&quot;,0],UNIT[&quot;metre&quot;,1,AUTHORITY[&quot;EPSG&quot;,&quot;9001&quot;]],AUTHORITY[&quot;EPSG&quot;,&quot;32614&quot;]]</SRS>\n",
      "  <GeoTransform>  4.8359999999999994e+05,  3.5000000000000000e+01,  0.0000000000000000e+00,  4.0974000000000000e+06,  0.0000000000000000e+00, -3.5000000000000000e+01</GeoTransform>\n",
      "  <VRTRasterBand dataType=\"Byte\" band=\"1\">\n",
      "    <ColorInterp>Gray</ColorInterp>\n",
      "    <SimpleSource>\n",
      "      <SourceFilename relativeToVRT=\"1\">L71028035_03520060608_B10.TIF</SourceFilename>\n",
      "      <SourceBand>1</SourceBand>\n",
      "      <SourceProperties RasterXSize=\"8161\" RasterYSize=\"7201\" DataType=\"Byte\" BlockXSize=\"8161\" BlockYSize=\"1\"/>\n",
      "      <SrcRect xOff=\"0\" yOff=\"0\" xSize=\"8161\" ySize=\"7201\"/>\n",
      "      <DstRect xOff=\"0\" yOff=\"0\" xSize=\"6995\" ySize=\"6172\"/>\n",
      "    </SimpleSource>\n",
      "    <SimpleSource>\n",
      "      <SourceFilename relativeToVRT=\"1\">L71028035_03520060608_B20.TIF</SourceFilename>\n",
      "      <SourceBand>1</SourceBand>\n",
      "      <SourceProperties RasterXSize=\"8161\" RasterYSize=\"7201\" DataType=\"Byte\" BlockXSize=\"8161\" BlockYSize=\"1\"/>\n",
      "      <SrcRect xOff=\"0\" yOff=\"0\" xSize=\"8161\" ySize=\"7201\"/>\n",
      "      <DstRect xOff=\"0\" yOff=\"0\" xSize=\"6995\" ySize=\"6172\"/>\n",
      "    </SimpleSource>\n",
      "    <SimpleSource>\n",
      "      <SourceFilename relativeToVRT=\"1\">L71028035_03520060608_B30.TIF</SourceFilename>\n",
      "      <SourceBand>1</SourceBand>\n",
      "      <SourceProperties RasterXSize=\"8161\" RasterYSize=\"7201\" DataType=\"Byte\" BlockXSize=\"8161\" BlockYSize=\"1\"/>\n",
      "      <SrcRect xOff=\"0\" yOff=\"0\" xSize=\"8161\" ySize=\"7201\"/>\n",
      "      <DstRect xOff=\"0\" yOff=\"0\" xSize=\"6995\" ySize=\"6172\"/>\n",
      "    </SimpleSource>\n",
      "    <SimpleSource>\n",
      "      <SourceFilename relativeToVRT=\"1\">L71028035_03520060608_B40.TIF</SourceFilename>\n",
      "      <SourceBand>1</SourceBand>\n",
      "      <SourceProperties RasterXSize=\"8161\" RasterYSize=\"7201\" DataType=\"Byte\" BlockXSize=\"8161\" BlockYSize=\"1\"/>\n",
      "      <SrcRect xOff=\"0\" yOff=\"0\" xSize=\"8161\" ySize=\"7201\"/>\n",
      "      <DstRect xOff=\"0\" yOff=\"0\" xSize=\"6995\" ySize=\"6172\"/>\n",
      "    </SimpleSource>\n",
      "    <SimpleSource>\n",
      "      <SourceFilename relativeToVRT=\"1\">L71028035_03520060608_B50.TIF</SourceFilename>\n",
      "      <SourceBand>1</SourceBand>\n",
      "      <SourceProperties RasterXSize=\"8161\" RasterYSize=\"7201\" DataType=\"Byte\" BlockXSize=\"8161\" BlockYSize=\"1\"/>\n",
      "      <SrcRect xOff=\"0\" yOff=\"0\" xSize=\"8161\" ySize=\"7201\"/>\n",
      "      <DstRect xOff=\"0\" yOff=\"0\" xSize=\"6995\" ySize=\"6172\"/>\n",
      "    </SimpleSource>\n",
      "    <SimpleSource>\n",
      "      <SourceFilename relativeToVRT=\"1\">L71028035_03520060608_B61.TIF</SourceFilename>\n",
      "      <SourceBand>1</SourceBand>\n",
      "      <SourceProperties RasterXSize=\"4081\" RasterYSize=\"3601\" DataType=\"Byte\" BlockXSize=\"4081\" BlockYSize=\"1\"/>\n",
      "      <SrcRect xOff=\"0\" yOff=\"0\" xSize=\"4081\" ySize=\"3601\"/>\n",
      "      <DstRect xOff=\"0\" yOff=\"0\" xSize=\"6996\" ySize=\"6173\"/>\n",
      "    </SimpleSource>\n",
      "    <SimpleSource>\n",
      "      <SourceFilename relativeToVRT=\"1\">L72028035_03520060608_B62.TIF</SourceFilename>\n",
      "      <SourceBand>1</SourceBand>\n",
      "      <SourceProperties RasterXSize=\"4081\" RasterYSize=\"3601\" DataType=\"Byte\" BlockXSize=\"4081\" BlockYSize=\"1\"/>\n",
      "      <SrcRect xOff=\"0\" yOff=\"0\" xSize=\"4081\" ySize=\"3601\"/>\n",
      "      <DstRect xOff=\"0\" yOff=\"0\" xSize=\"6996\" ySize=\"6173\"/>\n",
      "    </SimpleSource>\n",
      "    <SimpleSource>\n",
      "      <SourceFilename relativeToVRT=\"1\">L72028035_03520060608_B70.TIF</SourceFilename>\n",
      "      <SourceBand>1</SourceBand>\n",
      "      <SourceProperties RasterXSize=\"8161\" RasterYSize=\"7201\" DataType=\"Byte\" BlockXSize=\"8161\" BlockYSize=\"1\"/>\n",
      "      <SrcRect xOff=\"0\" yOff=\"0\" xSize=\"8161\" ySize=\"7201\"/>\n",
      "      <DstRect xOff=\"0\" yOff=\"0\" xSize=\"6995\" ySize=\"6172\"/>\n",
      "    </SimpleSource>\n",
      "    <SimpleSource>\n",
      "      <SourceFilename relativeToVRT=\"1\">L72028035_03520060608_B80.TIF</SourceFilename>\n",
      "      <SourceBand>1</SourceBand>\n",
      "      <SourceProperties RasterXSize=\"16321\" RasterYSize=\"14401\" DataType=\"Byte\" BlockXSize=\"16321\" BlockYSize=\"1\"/>\n",
      "      <SrcRect xOff=\"0\" yOff=\"0\" xSize=\"16321\" ySize=\"14401\"/>\n",
      "      <DstRect xOff=\"0\" yOff=\"0\" xSize=\"6995\" ySize=\"6172\"/>\n",
      "    </SimpleSource>\n",
      "  </VRTRasterBand>\n",
      "</VRTDataset>\n",
      "```"
     ]
    },
    {
     "cell_type": "code",
     "collapsed": false,
     "input": [
      "etm_scene = gdal.Open('/Users/jduckles/tmp/ETM/stack.vrt')\n",
      "etm_scene.GetFileList()"
     ],
     "language": "python",
     "metadata": {
      "slideshow": {
       "slide_type": "slide"
      }
     },
     "outputs": [
      {
       "metadata": {},
       "output_type": "pyout",
       "prompt_number": 57,
       "text": [
        "['/Users/jduckles/tmp/ETM/stack.vrt',\n",
        " '/Users/jduckles/tmp/ETM/L71028035_03520060608_B10.TIF',\n",
        " '/Users/jduckles/tmp/ETM/L71028035_03520060608_B20.TIF',\n",
        " '/Users/jduckles/tmp/ETM/L71028035_03520060608_B30.TIF',\n",
        " '/Users/jduckles/tmp/ETM/L71028035_03520060608_B40.TIF',\n",
        " '/Users/jduckles/tmp/ETM/L71028035_03520060608_B50.TIF',\n",
        " '/Users/jduckles/tmp/ETM/L71028035_03520060608_B61.TIF',\n",
        " '/Users/jduckles/tmp/ETM/L72028035_03520060608_B62.TIF',\n",
        " '/Users/jduckles/tmp/ETM/L72028035_03520060608_B70.TIF',\n",
        " '/Users/jduckles/tmp/ETM/L72028035_03520060608_B80.TIF']"
       ]
      }
     ],
     "prompt_number": 57
    },
    {
     "cell_type": "code",
     "collapsed": false,
     "input": [
      "etm_array = etm_scene.GetRasterBand(1)"
     ],
     "language": "python",
     "metadata": {
      "slideshow": {
       "slide_type": "fragment"
      }
     },
     "outputs": [],
     "prompt_number": 62
    },
    {
     "cell_type": "code",
     "collapsed": false,
     "input": [
      "plt.imshow(etm_scene.GetRasterBand(1).ReadAsArray())\n",
      "numpy.size(etm_scene.GetRasterBand(1))"
     ],
     "language": "python",
     "metadata": {
      "slideshow": {
       "slide_type": "slide"
      }
     },
     "outputs": [
      {
       "metadata": {},
       "output_type": "pyout",
       "prompt_number": 67,
       "text": [
        "1"
       ]
      },
      {
       "metadata": {},
       "output_type": "display_data",
       "png": "[encoded data removed]",
       "text": [
        "<matplotlib.figure.Figure at 0x1043bb250>"
       ]
      }
     ],
     "prompt_number": 67
    },
    {
     "cell_type": "code",
     "collapsed": false,
     "input": [
      "plt.imshow(etm_scene.GetRasterBand(4).ReadAsArray())"
     ],
     "language": "python",
     "metadata": {
      "slideshow": {
       "slide_type": "skip"
      }
     },
     "outputs": [
      {
       "ename": "AttributeError",
       "evalue": "'NoneType' object has no attribute 'ReadAsArray'",
       "output_type": "pyerr",
       "traceback": [
        "\u001b[0;31m---------------------------------------------------------------------------\u001b[0m\n\u001b[0;31mAttributeError\u001b[0m                            Traceback (most recent call last)",
        "\u001b[0;32m<ipython-input-66-dff0bb667e91>\u001b[0m in \u001b[0;36m<module>\u001b[0;34m()\u001b[0m\n\u001b[0;32m----> 1\u001b[0;31m \u001b[0mplt\u001b[0m\u001b[0;34m.\u001b[0m\u001b[0mimshow\u001b[0m\u001b[0;34m(\u001b[0m\u001b[0metm_scene\u001b[0m\u001b[0;34m.\u001b[0m\u001b[0mGetRasterBand\u001b[0m\u001b[0;34m(\u001b[0m\u001b[0;36m4\u001b[0m\u001b[0;34m)\u001b[0m\u001b[0;34m.\u001b[0m\u001b[0mReadAsArray\u001b[0m\u001b[0;34m(\u001b[0m\u001b[0;34m)\u001b[0m\u001b[0;34m)\u001b[0m\u001b[0;34m\u001b[0m\u001b[0m\n\u001b[0m",
        "\u001b[0;31mAttributeError\u001b[0m: 'NoneType' object has no attribute 'ReadAsArray'"
       ]
      }
     ],
     "prompt_number": 66
    },
    {
     "cell_type": "code",
     "collapsed": false,
     "input": [
      "def computendvi(nir,red):\n",
      "    \"\"\" Compute the ndvi - Normalized vegetation index \"\"\"\n",
      "    return((float(nir) - float(red))/float(nir)+float(red))"
     ],
     "language": "python",
     "metadata": {
      "slideshow": {
       "slide_type": "skip"
      }
     },
     "outputs": [],
     "prompt_number": 52
    },
    {
     "cell_type": "code",
     "collapsed": false,
     "input": [
      "computendvi(etm_scene.GetRasterBand(1).ReadAsArray()"
     ],
     "language": "python",
     "metadata": {
      "slideshow": {
       "slide_type": "skip"
      }
     },
     "outputs": []
    },
    {
     "cell_type": "markdown",
     "metadata": {
      "slideshow": {
       "slide_type": "slide"
      }
     },
     "source": [
      "# Next time\n",
      "\n",
      "* Numpy stacking\n",
      "* Python Multiprocessing\n",
      "* [SPy - Spectral Python](http://spectralpython.sourceforge.net/index.html)"
     ]
    },
    {
     "cell_type": "code",
     "collapsed": false,
     "input": [],
     "language": "python",
     "metadata": {},
     "outputs": [],
     "prompt_number": 32
    }
   ],
   "metadata": {}
  }
 ]
}