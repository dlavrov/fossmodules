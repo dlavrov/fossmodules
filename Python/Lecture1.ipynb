{
 "metadata": {
  "name": ""
 },
 "nbformat": 3,
 "nbformat_minor": 0,
 "worksheets": [
  {
   "cells": [
    {
     "cell_type": "markdown",
     "metadata": {
      "slideshow": {
       "slide_type": "slide"
      }
     },
     "source": [
      "% Lecture 2 Python\n",
      "% Jonah M. Duckles (jduckles@ou.edu)"
     ]
    },
    {
     "cell_type": "markdown",
     "metadata": {
      "slideshow": {
       "slide_type": "slide"
      }
     },
     "source": [
      "# Review\n",
      "\n",
      "* Python is an interpreted language\n",
      "* Python is gaining ground as a \"glue\" language to connect scicentific software tools.\n",
      "* Python is free and Open Source software"
     ]
    },
    {
     "cell_type": "markdown",
     "metadata": {
      "slideshow": {
       "slide_type": "slide"
      }
     },
     "source": [
      "# Core data types\n",
      "\n",
      "* Numbers\n",
      "* Strings\n",
      "* Lists\n",
      "* Dictionaries\n",
      "* Tuples\n",
      "* Files\n",
      "* Sets\n",
      "* Boolean\n",
      "* None\n",
      "\n",
      "In python types are \"objects\" and have associated type-specific methods that perform common usefull operations on data of that type"
     ]
    },
    {
     "cell_type": "markdown",
     "metadata": {
      "slideshow": {
       "slide_type": "slide"
      }
     },
     "source": [
      "\n",
      "\n",
      "# Lists\n",
      "\n",
      "Lists are a basic data structure in python"
     ]
    },
    {
     "cell_type": "markdown",
     "metadata": {
      "slideshow": {
       "slide_type": "slide"
      }
     },
     "source": [
      "## Creating a list"
     ]
    },
    {
     "cell_type": "markdown",
     "metadata": {
      "slideshow": {
       "slide_type": "fragment"
      }
     },
     "source": [
      "Lists are created by placing list elements between `[]`'s."
     ]
    },
    {
     "cell_type": "code",
     "collapsed": false,
     "input": [
      "names = ['Tom', 'Dick', 'Hary']"
     ],
     "language": "python",
     "metadata": {
      "slideshow": {
       "slide_type": "fragment"
      }
     },
     "outputs": [],
     "prompt_number": 4
    },
    {
     "cell_type": "code",
     "collapsed": false,
     "input": [
      "names[0]"
     ],
     "language": "python",
     "metadata": {
      "slideshow": {
       "slide_type": "fragment"
      }
     },
     "outputs": [
      {
       "metadata": {},
       "output_type": "pyout",
       "prompt_number": 9,
       "text": [
        "'Tom'"
       ]
      }
     ],
     "prompt_number": 9
    },
    {
     "cell_type": "code",
     "collapsed": false,
     "input": [
      "names[1:3]"
     ],
     "language": "python",
     "metadata": {
      "slideshow": {
       "slide_type": "fragment"
      }
     },
     "outputs": [
      {
       "metadata": {},
       "output_type": "pyout",
       "prompt_number": 14,
       "text": [
        "['Dick', 'Hary']"
       ]
      }
     ],
     "prompt_number": 14
    },
    {
     "cell_type": "markdown",
     "metadata": {
      "slideshow": {
       "slide_type": "fragment"
      }
     },
     "source": [
      "slices use `[start:end]` notation where `end` is the first element **NOT** in the slice (a bit different than R's notation), also notice that the list index is based at `0`, also a difference from R.  More on slicing at [Software Carpentry](http://software-carpentry.org/v4/python/slice.html).\n"
     ]
    },
    {
     "cell_type": "markdown",
     "metadata": {
      "slideshow": {
       "slide_type": "slide"
      }
     },
     "source": [
      "# Caution\n",
      "Be careful when making \"copies\" of mutable objects in Python.\n",
      "\n"
     ]
    },
    {
     "cell_type": "code",
     "collapsed": false,
     "input": [
      "a = [1,2,3]\n",
      "b = a\n",
      "a[1] = 10\n",
      "print(b)"
     ],
     "language": "python",
     "metadata": {
      "slideshow": {
       "slide_type": "fragment"
      }
     },
     "outputs": [
      {
       "output_type": "stream",
       "stream": "stdout",
       "text": [
        "[1, 10, 3]\n"
       ]
      }
     ],
     "prompt_number": 120
    },
    {
     "cell_type": "markdown",
     "metadata": {
      "slideshow": {
       "slide_type": "fragment"
      }
     },
     "source": [
      "Assignment `=` in python is just placing a pointer to a particular memory location.  There is a very good chance that something else might change that memory location if the type is mutable (changeable)."
     ]
    },
    {
     "cell_type": "markdown",
     "metadata": {
      "slideshow": {
       "slide_type": "slide"
      }
     },
     "source": [
      "# Iterating over lists"
     ]
    },
    {
     "cell_type": "code",
     "collapsed": false,
     "input": [
      "for name in names:\n",
      "    print \"Current name is \" + name"
     ],
     "language": "python",
     "metadata": {
      "slideshow": {
       "slide_type": "fragment"
      }
     },
     "outputs": [
      {
       "output_type": "stream",
       "stream": "stdout",
       "text": [
        "Current name is Tom\n",
        "Current name is Dick\n",
        "Current name is Hary\n"
       ]
      }
     ],
     "prompt_number": 5
    },
    {
     "cell_type": "markdown",
     "metadata": {
      "slideshow": {
       "slide_type": "fragment"
      }
     },
     "source": [
      "## Iterators\n",
      "Notice that we don't have to use explicit indexes in for loops.\n",
      "\n",
      "This is because a list is considered to be an \"**iterable**\" in python.  Iterables are just objects with a built in definition of what iteration over entails.\n",
      "\n",
      "List objects have a series of methods on them useful for operating on lists"
     ]
    },
    {
     "cell_type": "markdown",
     "metadata": {
      "slideshow": {
       "slide_type": "slide"
      }
     },
     "source": [
      "# Inspecting objects\n",
      "\n",
      "In python everything is an object, objects have methods, it can be helpful to see what the methods of an object are.  The `dir()` function can help with that."
     ]
    },
    {
     "cell_type": "code",
     "collapsed": false,
     "input": [
      "dir(names)"
     ],
     "language": "python",
     "metadata": {
      "slideshow": {
       "slide_type": "fragment"
      }
     },
     "outputs": [
      {
       "metadata": {},
       "output_type": "pyout",
       "prompt_number": 6,
       "text": [
        "['__add__',\n",
        " '__class__',\n",
        " '__contains__',\n",
        " '__delattr__',\n",
        " '__delitem__',\n",
        " '__delslice__',\n",
        " '__doc__',\n",
        " '__eq__',\n",
        " '__format__',\n",
        " '__ge__',\n",
        " '__getattribute__',\n",
        " '__getitem__',\n",
        " '__getslice__',\n",
        " '__gt__',\n",
        " '__hash__',\n",
        " '__iadd__',\n",
        " '__imul__',\n",
        " '__init__',\n",
        " '__iter__',\n",
        " '__le__',\n",
        " '__len__',\n",
        " '__lt__',\n",
        " '__mul__',\n",
        " '__ne__',\n",
        " '__new__',\n",
        " '__reduce__',\n",
        " '__reduce_ex__',\n",
        " '__repr__',\n",
        " '__reversed__',\n",
        " '__rmul__',\n",
        " '__setattr__',\n",
        " '__setitem__',\n",
        " '__setslice__',\n",
        " '__sizeof__',\n",
        " '__str__',\n",
        " '__subclasshook__',\n",
        " 'append',\n",
        " 'count',\n",
        " 'extend',\n",
        " 'index',\n",
        " 'insert',\n",
        " 'pop',\n",
        " 'remove',\n",
        " 'reverse',\n",
        " 'sort']"
       ]
      }
     ],
     "prompt_number": 6
    },
    {
     "cell_type": "markdown",
     "metadata": {
      "slideshow": {
       "slide_type": "slide"
      }
     },
     "source": [
      "We see that the object has a series of `__xxx__` methods and a few named methods.  Advanced: The `__xxx__` methods are acutally revealing how that object responds to various other operators and functions.  Iteration is actually handled by the `__iter__` method.\n",
      "\n",
      "The methods that don't begin with `__` are the ones we want to look at.\n",
      "\n",
      "Lets try one."
     ]
    },
    {
     "cell_type": "code",
     "collapsed": false,
     "input": [
      "names.append('John')"
     ],
     "language": "python",
     "metadata": {
      "slideshow": {
       "slide_type": "fragment"
      }
     },
     "outputs": [],
     "prompt_number": 7
    },
    {
     "cell_type": "code",
     "collapsed": false,
     "input": [
      "names"
     ],
     "language": "python",
     "metadata": {
      "slideshow": {
       "slide_type": "fragment"
      }
     },
     "outputs": [
      {
       "metadata": {},
       "output_type": "pyout",
       "prompt_number": 8,
       "text": [
        "['Tom', 'Dick', 'Hary', 'John']"
       ]
      }
     ],
     "prompt_number": 8
    },
    {
     "cell_type": "code",
     "collapsed": false,
     "input": [
      "names.sort() # in place sort"
     ],
     "language": "python",
     "metadata": {
      "slideshow": {
       "slide_type": "fragment"
      }
     },
     "outputs": [],
     "prompt_number": 11
    },
    {
     "cell_type": "code",
     "collapsed": false,
     "input": [
      "names"
     ],
     "language": "python",
     "metadata": {
      "slideshow": {
       "slide_type": "fragment"
      }
     },
     "outputs": [
      {
       "metadata": {},
       "output_type": "pyout",
       "prompt_number": 12,
       "text": [
        "['Dick', 'Hary', 'John', 'Tom']"
       ]
      }
     ],
     "prompt_number": 12
    },
    {
     "cell_type": "code",
     "collapsed": false,
     "input": [
      "names.remove('John')"
     ],
     "language": "python",
     "metadata": {
      "slideshow": {
       "slide_type": "fragment"
      }
     },
     "outputs": [],
     "prompt_number": 15
    },
    {
     "cell_type": "code",
     "collapsed": false,
     "input": [
      "names"
     ],
     "language": "python",
     "metadata": {
      "slideshow": {
       "slide_type": "fragment"
      }
     },
     "outputs": [
      {
       "metadata": {},
       "output_type": "pyout",
       "prompt_number": 16,
       "text": [
        "['Dick', 'Hary', 'Tom']"
       ]
      }
     ],
     "prompt_number": 16
    },
    {
     "cell_type": "markdown",
     "metadata": {
      "slideshow": {
       "slide_type": "slide"
      }
     },
     "source": [
      "# Getting Help"
     ]
    },
    {
     "cell_type": "code",
     "collapsed": false,
     "input": [
      "print help(list.remove)"
     ],
     "language": "python",
     "metadata": {
      "slideshow": {
       "slide_type": "fragment"
      }
     },
     "outputs": [
      {
       "output_type": "stream",
       "stream": "stdout",
       "text": [
        "Help on method_descriptor:\n",
        "\n",
        "remove(...)\n",
        "    L.remove(value) -- remove first occurrence of value.\n",
        "    Raises ValueError if the value is not present.\n",
        "\n",
        "None\n"
       ]
      }
     ],
     "prompt_number": 18
    },
    {
     "cell_type": "code",
     "collapsed": false,
     "input": [
      "print help(list.sort)"
     ],
     "language": "python",
     "metadata": {
      "slideshow": {
       "slide_type": "fragment"
      }
     },
     "outputs": [
      {
       "output_type": "stream",
       "stream": "stdout",
       "text": [
        "Help on method_descriptor:\n",
        "\n",
        "sort(...)\n",
        "    L.sort(cmp=None, key=None, reverse=False) -- stable sort *IN PLACE*;\n",
        "    cmp(x, y) -> -1, 0, 1\n",
        "\n",
        "None\n"
       ]
      }
     ],
     "prompt_number": 19
    },
    {
     "cell_type": "markdown",
     "metadata": {
      "slideshow": {
       "slide_type": "slide"
      }
     },
     "source": [
      "# Making Help\n",
      "Documenting functions in python is very easy.  You place a \"docstring\" after the function definition line.  Docstrings are denoted by either three quotes (`\"\"\"` or `'''` are both valid) on the line following the function definition statement.\n"
     ]
    },
    {
     "cell_type": "code",
     "collapsed": false,
     "input": [
      "def somefunction(someparam):\n",
      "    \"\"\" \n",
      "    A function that returns the parameter with some descriptive text\n",
      "    \"\"\"\n",
      "    return('You sent the parameter {}'.format(someparam))"
     ],
     "language": "python",
     "metadata": {
      "slideshow": {
       "slide_type": "fragment"
      }
     },
     "outputs": [],
     "prompt_number": 74
    },
    {
     "cell_type": "code",
     "collapsed": false,
     "input": [
      "help(somefunction)"
     ],
     "language": "python",
     "metadata": {
      "slideshow": {
       "slide_type": "fragment"
      }
     },
     "outputs": [
      {
       "output_type": "stream",
       "stream": "stdout",
       "text": [
        "Help on function somefunction in module __main__:\n",
        "\n",
        "somefunction(someparam)\n",
        "    A function that returns the parameter with some descriptive text\n",
        "\n"
       ]
      }
     ],
     "prompt_number": 75
    },
    {
     "cell_type": "code",
     "collapsed": false,
     "input": [
      "somefunction('woooweee')"
     ],
     "language": "python",
     "metadata": {
      "slideshow": {
       "slide_type": "fragment"
      }
     },
     "outputs": [
      {
       "metadata": {},
       "output_type": "pyout",
       "prompt_number": 77,
       "text": [
        "'You sent the parameter woooweee'"
       ]
      }
     ],
     "prompt_number": 77
    },
    {
     "cell_type": "markdown",
     "metadata": {
      "slideshow": {
       "slide_type": "slide"
      }
     },
     "source": [
      "# Tuples\n",
      "\n",
      "Tuples are like lists except they are **immutable**.  Immutable just means they can't be changed once they're created.\n",
      "\n",
      "\n"
     ]
    },
    {
     "cell_type": "code",
     "collapsed": false,
     "input": [
      "names_tuple = ('Tom', 'Dick', 'Harry')"
     ],
     "language": "python",
     "metadata": {
      "slideshow": {
       "slide_type": "fragment"
      }
     },
     "outputs": [],
     "prompt_number": 23
    },
    {
     "cell_type": "code",
     "collapsed": false,
     "input": [
      "names_tuple"
     ],
     "language": "python",
     "metadata": {
      "slideshow": {
       "slide_type": "fragment"
      }
     },
     "outputs": [
      {
       "metadata": {},
       "output_type": "pyout",
       "prompt_number": 24,
       "text": [
        "('Tom', 'Dick', 'Harry')"
       ]
      }
     ],
     "prompt_number": 24
    },
    {
     "cell_type": "markdown",
     "metadata": {
      "slideshow": {
       "slide_type": "fragment"
      }
     },
     "source": [
      "Tuples just switch `[]` for `()`, but behavior is slightly different.\n",
      "\n",
      "1. Order never changes\n",
      "1. Can't be changed at all in-place"
     ]
    },
    {
     "cell_type": "code",
     "collapsed": false,
     "input": [
      "dir(names)"
     ],
     "language": "python",
     "metadata": {
      "slideshow": {
       "slide_type": "slide"
      }
     },
     "outputs": [
      {
       "metadata": {},
       "output_type": "pyout",
       "prompt_number": 22,
       "text": [
        "['__add__',\n",
        " '__class__',\n",
        " '__contains__',\n",
        " '__delattr__',\n",
        " '__doc__',\n",
        " '__eq__',\n",
        " '__format__',\n",
        " '__ge__',\n",
        " '__getattribute__',\n",
        " '__getitem__',\n",
        " '__getnewargs__',\n",
        " '__getslice__',\n",
        " '__gt__',\n",
        " '__hash__',\n",
        " '__init__',\n",
        " '__iter__',\n",
        " '__le__',\n",
        " '__len__',\n",
        " '__lt__',\n",
        " '__mul__',\n",
        " '__ne__',\n",
        " '__new__',\n",
        " '__reduce__',\n",
        " '__reduce_ex__',\n",
        " '__repr__',\n",
        " '__rmul__',\n",
        " '__setattr__',\n",
        " '__sizeof__',\n",
        " '__str__',\n",
        " '__subclasshook__',\n",
        " 'count',\n",
        " 'index']"
       ]
      }
     ],
     "prompt_number": 22
    },
    {
     "cell_type": "code",
     "collapsed": false,
     "input": [
      "names.index('Dick')"
     ],
     "language": "python",
     "metadata": {
      "slideshow": {
       "slide_type": "fragment"
      }
     },
     "outputs": [
      {
       "metadata": {},
       "output_type": "pyout",
       "prompt_number": 27,
       "text": [
        "1"
       ]
      }
     ],
     "prompt_number": 27
    },
    {
     "cell_type": "markdown",
     "metadata": {
      "slideshow": {
       "slide_type": "slide"
      }
     },
     "source": [
      "# Dictionaries\n",
      "\n",
      "Python dictionaries are an implementation of what is called a *hash-table*.  A  *hash table* is a particular (and efficient) way of creating an associative data structure with key/value pairs.  Each key has a value that it returns.  Importantly, it requires that each key be unique."
     ]
    },
    {
     "cell_type": "code",
     "collapsed": false,
     "input": [
      "bob1 = {'height': 76, 'first_name': 'Bob', 'last_name': 'Waldron', 'gender': 'M'}"
     ],
     "language": "python",
     "metadata": {
      "slideshow": {
       "slide_type": "fragment"
      }
     },
     "outputs": [],
     "prompt_number": 43
    },
    {
     "cell_type": "markdown",
     "metadata": {
      "slideshow": {
       "slide_type": "fragment"
      }
     },
     "source": [
      "dictionaries are created by placing `{}`  and filling it with `'key': value` pairs.  The key must be a hashable, practically this means it should be a unique string for the dictionary  `{ 'key1': value, 'key2': value2 }` "
     ]
    },
    {
     "cell_type": "code",
     "collapsed": false,
     "input": [
      "bob2 = {'height': 76, 'height': 62 }"
     ],
     "language": "python",
     "metadata": {
      "slideshow": {
       "slide_type": "slide"
      }
     },
     "outputs": [],
     "prompt_number": 33
    },
    {
     "cell_type": "code",
     "collapsed": false,
     "input": [
      "bob2"
     ],
     "language": "python",
     "metadata": {
      "slideshow": {
       "slide_type": "fragment"
      }
     },
     "outputs": [
      {
       "metadata": {},
       "output_type": "pyout",
       "prompt_number": 34,
       "text": [
        "{'height': 62}"
       ]
      }
     ],
     "prompt_number": 34
    },
    {
     "cell_type": "markdown",
     "metadata": {
      "slideshow": {
       "slide_type": "fragment"
      }
     },
     "source": [
      "Be carefull with dictionary keys. Duplicates keys will clober the previous value without warning."
     ]
    },
    {
     "cell_type": "markdown",
     "metadata": {
      "slideshow": {
       "slide_type": "slide"
      }
     },
     "source": [
      "# Dictionaries deconstructed"
     ]
    },
    {
     "cell_type": "code",
     "collapsed": false,
     "input": [
      "print bob1.values() # Method to return a list of values\n",
      "print bob1.keys() # Method to return list of keys"
     ],
     "language": "python",
     "metadata": {
      "slideshow": {
       "slide_type": "fragment"
      }
     },
     "outputs": [
      {
       "output_type": "stream",
       "stream": "stdout",
       "text": [
        "['M', 'Bob', 'Waldron', 76]\n",
        "['gender', 'first_name', 'last_name', 'height']\n"
       ]
      }
     ],
     "prompt_number": 19
    },
    {
     "cell_type": "markdown",
     "metadata": {
      "slideshow": {
       "slide_type": "fragment"
      }
     },
     "source": [
      "You can put a dictionary's values and keys back together using `zip()` and `dict()`"
     ]
    },
    {
     "cell_type": "code",
     "collapsed": false,
     "input": [
      "tmp = zip(bob1.keys(),bob1.values()) # putting a dictionary back together\n",
      "print tmp\n",
      "print dict(tmp)\n"
     ],
     "language": "python",
     "metadata": {
      "slideshow": {
       "slide_type": "fragment"
      }
     },
     "outputs": [
      {
       "output_type": "stream",
       "stream": "stdout",
       "text": [
        "[('gender', 'M'), ('first_name', 'Bob'), ('last_name', 'Waldron'), ('height', 76)]\n",
        "{'gender': 'M', 'first_name': 'Bob', 'last_name': 'Waldron', 'height': 76}\n"
       ]
      }
     ],
     "prompt_number": 22
    },
    {
     "cell_type": "markdown",
     "metadata": {
      "slideshow": {
       "slide_type": "fragment"
      }
     },
     "source": [
      "We see that another way to create a dictionary is with a list of tuples which we run the `dict()` function on."
     ]
    },
    {
     "cell_type": "code",
     "collapsed": false,
     "input": [
      "for k,v in bob1.items():\n",
      "    print \"Key is: {} Value is: {}\".format(k,v)\n"
     ],
     "language": "python",
     "metadata": {
      "slideshow": {
       "slide_type": "slide"
      }
     },
     "outputs": [
      {
       "output_type": "stream",
       "stream": "stdout",
       "text": [
        "Key is: gender Value is: M\n",
        "Key is: first_name Value is: Bob\n",
        "Key is: last_name Value is: Waldron\n",
        "Key is: height Value is: 76\n"
       ]
      }
     ],
     "prompt_number": 28
    },
    {
     "cell_type": "markdown",
     "metadata": {
      "slideshow": {
       "slide_type": "fragment"
      }
     },
     "source": [
      "Items method just places tuples for each key/value pair into a list."
     ]
    },
    {
     "cell_type": "code",
     "collapsed": false,
     "input": [
      "bob1.items()"
     ],
     "language": "python",
     "metadata": {
      "slideshow": {
       "slide_type": "fragment"
      }
     },
     "outputs": [
      {
       "metadata": {},
       "output_type": "pyout",
       "prompt_number": 45,
       "text": [
        "[('gender', 'M'),\n",
        " ('first_name', 'Bob'),\n",
        " ('last_name', 'Waldron'),\n",
        " ('height', 76)]"
       ]
      }
     ],
     "prompt_number": 45
    },
    {
     "cell_type": "markdown",
     "metadata": {
      "slideshow": {
       "slide_type": "slide"
      }
     },
     "source": [
      "# String formatting\n",
      "\n",
      "\n",
      "\n",
      "Special language for filling in strings (kind of like a templating language, but somewhat limited)"
     ]
    },
    {
     "cell_type": "code",
     "collapsed": false,
     "input": [
      "'Name: {first_name} {last_name}  gender: {gender}'.format(first_name='Bob', last_name='Waldron', gender='M')"
     ],
     "language": "python",
     "metadata": {
      "slideshow": {
       "slide_type": "fragment"
      }
     },
     "outputs": [
      {
       "metadata": {},
       "output_type": "pyout",
       "prompt_number": 46,
       "text": [
        "'Name: Bob Waldron  gender: M'"
       ]
      }
     ],
     "prompt_number": 46
    },
    {
     "cell_type": "code",
     "collapsed": false,
     "input": [
      "template = 'Name: {first_name} {last_name}  gender: {gender}'\n",
      "template.format(**bob1) # Fill values with dictionary"
     ],
     "language": "python",
     "metadata": {
      "slideshow": {
       "slide_type": "fragment"
      }
     },
     "outputs": [
      {
       "metadata": {},
       "output_type": "pyout",
       "prompt_number": 52,
       "text": [
        "'Name: Bob Waldron  gender: M'"
       ]
      }
     ],
     "prompt_number": 52
    },
    {
     "cell_type": "code",
     "collapsed": false,
     "input": [
      "# Pretty numbers\n",
      "population = 309000000\n",
      "print '{:,}'.format(population)"
     ],
     "language": "python",
     "metadata": {
      "slideshow": {
       "slide_type": "fragment"
      }
     },
     "outputs": [
      {
       "output_type": "stream",
       "stream": "stdout",
       "text": [
        "309,000,000\n"
       ]
      }
     ],
     "prompt_number": 30
    },
    {
     "cell_type": "markdown",
     "metadata": {
      "slideshow": {
       "slide_type": "fragment"
      }
     },
     "source": [
      "More at:\n",
      "[Python String Format](http://docs.python.org/2/library/string.html#format-examples)"
     ]
    },
    {
     "cell_type": "markdown",
     "metadata": {
      "slideshow": {
       "slide_type": "slide"
      }
     },
     "source": [
      "Dictionaries can have their own internal structure as well.  It is handled as a dictionary inside of a dictionary."
     ]
    },
    {
     "cell_type": "code",
     "collapsed": false,
     "input": [
      "client1 = {'name': \"James Goodyear\", \n",
      "          'address': { 'street': '100 Goodguy lane', \n",
      "                      'city': 'Great Place',\n",
      "                      'state': 'PA',\n",
      "                      'zip': 15512\n",
      "                      }\n",
      "          }"
     ],
     "language": "python",
     "metadata": {
      "slideshow": {
       "slide_type": "fragment"
      }
     },
     "outputs": [],
     "prompt_number": 125
    },
    {
     "cell_type": "code",
     "collapsed": false,
     "input": [
      "client2 = {'name': \"Paul Gibson\", \n",
      "          'address': { 'street': '204 Shady lane', \n",
      "                      'city': 'Orlando',\n",
      "                      'state': 'FL',\n",
      "                      'zip': 68924\n",
      "                      }\n",
      "          }\n",
      "customers = [client1, client2]"
     ],
     "language": "python",
     "metadata": {
      "slideshow": {
       "slide_type": "fragment"
      }
     },
     "outputs": [],
     "prompt_number": 126
    },
    {
     "cell_type": "code",
     "collapsed": false,
     "input": [
      "print customers"
     ],
     "language": "python",
     "metadata": {
      "slideshow": {
       "slide_type": "fragment"
      }
     },
     "outputs": [
      {
       "output_type": "stream",
       "stream": "stdout",
       "text": [
        "[{'name': 'James Goodyear', 'address': {'city': 'Great Place', 'state': 'PA', 'street': '100 Goodguy lane', 'zip': 15512}}, {'name': 'Paul Gibson', 'address': {'city': 'Orlando', 'state': 'FL', 'street': '204 Shady lane', 'zip': 68924}}]\n"
       ]
      }
     ],
     "prompt_number": 128
    },
    {
     "cell_type": "markdown",
     "metadata": {
      "slideshow": {
       "slide_type": "fragment"
      }
     },
     "source": [
      "Notice that hash-table collisions are not a problem across independent dictionaries."
     ]
    },
    {
     "cell_type": "markdown",
     "metadata": {
      "slideshow": {
       "slide_type": "slide"
      }
     },
     "source": [
      "# Extracting data from Dictionaries\n",
      "Dictionary keys can be accesses using a `[]` notation to pull out keys and subkeys."
     ]
    },
    {
     "cell_type": "code",
     "collapsed": false,
     "input": [
      "client1['address']"
     ],
     "language": "python",
     "metadata": {
      "slideshow": {
       "slide_type": "fragment"
      }
     },
     "outputs": [
      {
       "metadata": {},
       "output_type": "pyout",
       "prompt_number": 129,
       "text": [
        "{'city': 'Great Place',\n",
        " 'state': 'PA',\n",
        " 'street': '100 Goodguy lane',\n",
        " 'zip': 15512}"
       ]
      }
     ],
     "prompt_number": 129
    },
    {
     "cell_type": "code",
     "collapsed": false,
     "input": [
      "client1['address']['street']"
     ],
     "language": "python",
     "metadata": {
      "slideshow": {
       "slide_type": "fragment"
      }
     },
     "outputs": [
      {
       "metadata": {},
       "output_type": "pyout",
       "prompt_number": 130,
       "text": [
        "'100 Goodguy lane'"
       ]
      }
     ],
     "prompt_number": 130
    },
    {
     "cell_type": "markdown",
     "metadata": {
      "slideshow": {
       "slide_type": "slide"
      }
     },
     "source": [
      "# File IO"
     ]
    },
    {
     "cell_type": "code",
     "collapsed": false,
     "input": [
      "writer = open('example.txt', 'w')\n",
      "writer.write('This is some text')\n",
      "writer.write('Some more text')\n",
      "writer.close()"
     ],
     "language": "python",
     "metadata": {
      "slideshow": {
       "slide_type": "fragment"
      }
     },
     "outputs": [],
     "prompt_number": 133
    },
    {
     "cell_type": "code",
     "collapsed": false,
     "input": [
      "reader = open('example.txt', 'r')\n",
      "print reader.readline()\n",
      "reader.close()"
     ],
     "language": "python",
     "metadata": {
      "slideshow": {
       "slide_type": "fragment"
      }
     },
     "outputs": [
      {
       "output_type": "stream",
       "stream": "stdout",
       "text": [
        "This is some textSome more text\n"
       ]
      }
     ],
     "prompt_number": 135
    },
    {
     "cell_type": "markdown",
     "metadata": {
      "slideshow": {
       "slide_type": "fragment"
      }
     },
     "source": [
      "Ooops, we just appended the text together...we need to send line feeds."
     ]
    },
    {
     "cell_type": "code",
     "collapsed": false,
     "input": [
      "writer = open('example.txt','w')\n",
      "writer.write('This is some text\\n')\n",
      "writer.write('Some more text\\n')\n",
      "writer.close()"
     ],
     "language": "python",
     "metadata": {
      "slideshow": {
       "slide_type": "fragment"
      }
     },
     "outputs": [],
     "prompt_number": 136
    },
    {
     "cell_type": "code",
     "collapsed": false,
     "input": [
      "reader = open('example.txt', 'r')\n",
      "for line in reader:\n",
      "    print line,"
     ],
     "language": "python",
     "metadata": {
      "slideshow": {
       "slide_type": "fragment"
      }
     },
     "outputs": [
      {
       "output_type": "stream",
       "stream": "stdout",
       "text": [
        "This is some text\n",
        "Some more text\n"
       ]
      }
     ],
     "prompt_number": 137
    },
    {
     "cell_type": "markdown",
     "metadata": {
      "slideshow": {
       "slide_type": "slide"
      }
     },
     "source": [
      "As part of the standard library there is a csv reader that should be used if you're reading/writing CSV data."
     ]
    },
    {
     "cell_type": "code",
     "collapsed": false,
     "input": [
      "import csv\n",
      "help(csv)"
     ],
     "language": "python",
     "metadata": {
      "slideshow": {
       "slide_type": "fragment"
      }
     },
     "outputs": [
      {
       "output_type": "stream",
       "stream": "stdout",
       "text": [
        "Help on module csv:\n",
        "\n",
        "NAME\n",
        "    csv - CSV parsing and writing.\n",
        "\n",
        "FILE\n",
        "    /usr/local/Cellar/python/2.7.3/Frameworks/Python.framework/Versions/2.7/lib/python2.7/csv.py\n",
        "\n",
        "DESCRIPTION\n",
        "    This module provides classes that assist in the reading and writing\n",
        "    of Comma Separated Value (CSV) files, and implements the interface\n",
        "    described by PEP 305.  Although many CSV files are simple to parse,\n",
        "    the format is not formally defined by a stable specification and\n",
        "    is subtle enough that parsing lines of a CSV file with something\n",
        "    like line.split(\",\") is bound to fail.  The module supports three\n",
        "    basic APIs: reading, writing, and registration of dialects.\n",
        "    \n",
        "    \n",
        "    DIALECT REGISTRATION:\n",
        "    \n",
        "    Readers and writers support a dialect argument, which is a convenient\n",
        "    handle on a group of settings.  When the dialect argument is a string,\n",
        "    it identifies one of the dialects previously registered with the module.\n",
        "    If it is a class or instance, the attributes of the argument are used as\n",
        "    the settings for the reader or writer:\n",
        "    \n",
        "        class excel:\n",
        "            delimiter = ','\n",
        "            quotechar = '\"'\n",
        "            escapechar = None\n",
        "            doublequote = True\n",
        "            skipinitialspace = False\n",
        "            lineterminator = '\\r\\n'\n",
        "            quoting = QUOTE_MINIMAL\n",
        "    \n",
        "    SETTINGS:\n",
        "    \n",
        "        * quotechar - specifies a one-character string to use as the \n",
        "            quoting character.  It defaults to '\"'.\n",
        "        * delimiter - specifies a one-character string to use as the \n",
        "            field separator.  It defaults to ','.\n",
        "        * skipinitialspace - specifies how to interpret whitespace which\n",
        "            immediately follows a delimiter.  It defaults to False, which\n",
        "            means that whitespace immediately following a delimiter is part\n",
        "            of the following field.\n",
        "        * lineterminator -  specifies the character sequence which should \n",
        "            terminate rows.\n",
        "        * quoting - controls when quotes should be generated by the writer.\n",
        "            It can take on any of the following module constants:\n",
        "    \n",
        "            csv.QUOTE_MINIMAL means only when required, for example, when a\n",
        "                field contains either the quotechar or the delimiter\n",
        "            csv.QUOTE_ALL means that quotes are always placed around fields.\n",
        "            csv.QUOTE_NONNUMERIC means that quotes are always placed around\n",
        "                fields which do not parse as integers or floating point\n",
        "                numbers.\n",
        "            csv.QUOTE_NONE means that quotes are never placed around fields.\n",
        "        * escapechar - specifies a one-character string used to escape \n",
        "            the delimiter when quoting is set to QUOTE_NONE.\n",
        "        * doublequote - controls the handling of quotes inside fields.  When\n",
        "            True, two consecutive quotes are interpreted as one during read,\n",
        "            and when writing, each quote character embedded in the data is\n",
        "            written as two quotes\n",
        "\n",
        "CLASSES\n",
        "    Dialect\n",
        "        excel\n",
        "            excel_tab\n",
        "    DictReader\n",
        "    DictWriter\n",
        "    Sniffer\n",
        "    exceptions.Exception(exceptions.BaseException)\n",
        "        _csv.Error\n",
        "    \n",
        "    class Dialect\n",
        "     |  Describe an Excel dialect.\n",
        "     |  \n",
        "     |  This must be subclassed (see csv.excel).  Valid attributes are:\n",
        "     |  delimiter, quotechar, escapechar, doublequote, skipinitialspace,\n",
        "     |  lineterminator, quoting.\n",
        "     |  \n",
        "     |  Methods defined here:\n",
        "     |  \n",
        "     |  __init__(self)\n",
        "     |  \n",
        "     |  ----------------------------------------------------------------------\n",
        "     |  Data and other attributes defined here:\n",
        "     |  \n",
        "     |  delimiter = None\n",
        "     |  \n",
        "     |  doublequote = None\n",
        "     |  \n",
        "     |  escapechar = None\n",
        "     |  \n",
        "     |  lineterminator = None\n",
        "     |  \n",
        "     |  quotechar = None\n",
        "     |  \n",
        "     |  quoting = None\n",
        "     |  \n",
        "     |  skipinitialspace = None\n",
        "    \n",
        "    class DictReader\n",
        "     |  Methods defined here:\n",
        "     |  \n",
        "     |  __init__(self, f, fieldnames=None, restkey=None, restval=None, dialect='excel', *args, **kwds)\n",
        "     |  \n",
        "     |  __iter__(self)\n",
        "     |  \n",
        "     |  next(self)\n",
        "     |  \n",
        "     |  ----------------------------------------------------------------------\n",
        "     |  Data descriptors defined here:\n",
        "     |  \n",
        "     |  fieldnames\n",
        "    \n",
        "    class DictWriter\n",
        "     |  Methods defined here:\n",
        "     |  \n",
        "     |  __init__(self, f, fieldnames, restval='', extrasaction='raise', dialect='excel', *args, **kwds)\n",
        "     |  \n",
        "     |  writeheader(self)\n",
        "     |  \n",
        "     |  writerow(self, rowdict)\n",
        "     |  \n",
        "     |  writerows(self, rowdicts)\n",
        "    \n",
        "    class Error(exceptions.Exception)\n",
        "     |  Method resolution order:\n",
        "     |      Error\n",
        "     |      exceptions.Exception\n",
        "     |      exceptions.BaseException\n",
        "     |      __builtin__.object\n",
        "     |  \n",
        "     |  Data descriptors defined here:\n",
        "     |  \n",
        "     |  __weakref__\n",
        "     |      list of weak references to the object (if defined)\n",
        "     |  \n",
        "     |  ----------------------------------------------------------------------\n",
        "     |  Methods inherited from exceptions.Exception:\n",
        "     |  \n",
        "     |  __init__(...)\n",
        "     |      x.__init__(...) initializes x; see help(type(x)) for signature\n",
        "     |  \n",
        "     |  ----------------------------------------------------------------------\n",
        "     |  Data and other attributes inherited from exceptions.Exception:\n",
        "     |  \n",
        "     |  __new__ = <built-in method __new__ of type object>\n",
        "     |      T.__new__(S, ...) -> a new object with type S, a subtype of T\n",
        "     |  \n",
        "     |  ----------------------------------------------------------------------\n",
        "     |  Methods inherited from exceptions.BaseException:\n",
        "     |  \n",
        "     |  __delattr__(...)\n",
        "     |      x.__delattr__('name') <==> del x.name\n",
        "     |  \n",
        "     |  __getattribute__(...)\n",
        "     |      x.__getattribute__('name') <==> x.name\n",
        "     |  \n",
        "     |  __getitem__(...)\n",
        "     |      x.__getitem__(y) <==> x[y]\n",
        "     |  \n",
        "     |  __getslice__(...)\n",
        "     |      x.__getslice__(i, j) <==> x[i:j]\n",
        "     |      \n",
        "     |      Use of negative indices is not supported.\n",
        "     |  \n",
        "     |  __reduce__(...)\n",
        "     |  \n",
        "     |  __repr__(...)\n",
        "     |      x.__repr__() <==> repr(x)\n",
        "     |  \n",
        "     |  __setattr__(...)\n",
        "     |      x.__setattr__('name', value) <==> x.name = value\n",
        "     |  \n",
        "     |  __setstate__(...)\n",
        "     |  \n",
        "     |  __str__(...)\n",
        "     |      x.__str__() <==> str(x)\n",
        "     |  \n",
        "     |  __unicode__(...)\n",
        "     |  \n",
        "     |  ----------------------------------------------------------------------\n",
        "     |  Data descriptors inherited from exceptions.BaseException:\n",
        "     |  \n",
        "     |  __dict__\n",
        "     |  \n",
        "     |  args\n",
        "     |  \n",
        "     |  message\n",
        "    \n",
        "    class Sniffer\n",
        "     |  \"Sniffs\" the format of a CSV file (i.e. delimiter, quotechar)\n",
        "     |  Returns a Dialect object.\n",
        "     |  \n",
        "     |  Methods defined here:\n",
        "     |  \n",
        "     |  __init__(self)\n",
        "     |  \n",
        "     |  has_header(self, sample)\n",
        "     |  \n",
        "     |  sniff(self, sample, delimiters=None)\n",
        "     |      Returns a dialect (or None) corresponding to the sample\n",
        "    \n",
        "    class excel(Dialect)\n",
        "     |  Describe the usual properties of Excel-generated CSV files.\n",
        "     |  \n",
        "     |  Data and other attributes defined here:\n",
        "     |  \n",
        "     |  delimiter = ','\n",
        "     |  \n",
        "     |  doublequote = True\n",
        "     |  \n",
        "     |  lineterminator = '\\r\\n'\n",
        "     |  \n",
        "     |  quotechar = '\"'\n",
        "     |  \n",
        "     |  quoting = 0\n",
        "     |  \n",
        "     |  skipinitialspace = False\n",
        "     |  \n",
        "     |  ----------------------------------------------------------------------\n",
        "     |  Methods inherited from Dialect:\n",
        "     |  \n",
        "     |  __init__(self)\n",
        "     |  \n",
        "     |  ----------------------------------------------------------------------\n",
        "     |  Data and other attributes inherited from Dialect:\n",
        "     |  \n",
        "     |  escapechar = None\n",
        "    \n",
        "    class excel_tab(excel)\n",
        "     |  Describe the usual properties of Excel-generated TAB-delimited files.\n",
        "     |  \n",
        "     |  Method resolution order:\n",
        "     |      excel_tab\n",
        "     |      excel\n",
        "     |      Dialect\n",
        "     |  \n",
        "     |  Data and other attributes defined here:\n",
        "     |  \n",
        "     |  delimiter = '\\t'\n",
        "     |  \n",
        "     |  ----------------------------------------------------------------------\n",
        "     |  Data and other attributes inherited from excel:\n",
        "     |  \n",
        "     |  doublequote = True\n",
        "     |  \n",
        "     |  lineterminator = '\\r\\n'\n",
        "     |  \n",
        "     |  quotechar = '\"'\n",
        "     |  \n",
        "     |  quoting = 0\n",
        "     |  \n",
        "     |  skipinitialspace = False\n",
        "     |  \n",
        "     |  ----------------------------------------------------------------------\n",
        "     |  Methods inherited from Dialect:\n",
        "     |  \n",
        "     |  __init__(self)\n",
        "     |  \n",
        "     |  ----------------------------------------------------------------------\n",
        "     |  Data and other attributes inherited from Dialect:\n",
        "     |  \n",
        "     |  escapechar = None\n",
        "\n",
        "FUNCTIONS\n",
        "    field_size_limit(...)\n",
        "        Sets an upper limit on parsed fields.\n",
        "            csv.field_size_limit([limit])\n",
        "        \n",
        "        Returns old limit. If limit is not given, no new limit is set and\n",
        "        the old limit is returned\n",
        "    \n",
        "    get_dialect(...)\n",
        "        Return the dialect instance associated with name.\n",
        "        dialect = csv.get_dialect(name)\n",
        "    \n",
        "    list_dialects(...)\n",
        "        Return a list of all know dialect names.\n",
        "        names = csv.list_dialects()\n",
        "    \n",
        "    reader(...)\n",
        "        csv_reader = reader(iterable [, dialect='excel']\n",
        "                                [optional keyword args])\n",
        "            for row in csv_reader:\n",
        "                process(row)\n",
        "        \n",
        "        The \"iterable\" argument can be any object that returns a line\n",
        "        of input for each iteration, such as a file object or a list.  The\n",
        "        optional \"dialect\" parameter is discussed below.  The function\n",
        "        also accepts optional keyword arguments which override settings\n",
        "        provided by the dialect.\n",
        "        \n",
        "        The returned object is an iterator.  Each iteration returns a row\n",
        "        of the CSV file (which can span multiple input lines):\n",
        "    \n",
        "    register_dialect(...)\n",
        "        Create a mapping from a string name to a dialect class.\n",
        "        dialect = csv.register_dialect(name, dialect)\n",
        "    \n",
        "    unregister_dialect(...)\n",
        "        Delete the name/dialect mapping associated with a string name.\n",
        "        csv.unregister_dialect(name)\n",
        "    \n",
        "    writer(...)\n",
        "        csv_writer = csv.writer(fileobj [, dialect='excel']\n",
        "                                    [optional keyword args])\n",
        "            for row in sequence:\n",
        "                csv_writer.writerow(row)\n",
        "        \n",
        "            [or]\n",
        "        \n",
        "            csv_writer = csv.writer(fileobj [, dialect='excel']\n",
        "                                    [optional keyword args])\n",
        "            csv_writer.writerows(rows)\n",
        "        \n",
        "        The \"fileobj\" argument can be any object that supports the file API.\n",
        "\n",
        "DATA\n",
        "    QUOTE_ALL = 1\n",
        "    QUOTE_MINIMAL = 0\n",
        "    QUOTE_NONE = 3\n",
        "    QUOTE_NONNUMERIC = 2\n",
        "    __all__ = ['QUOTE_MINIMAL', 'QUOTE_ALL', 'QUOTE_NONNUMERIC', 'QUOTE_NO...\n",
        "    __version__ = '1.0'\n",
        "\n",
        "VERSION\n",
        "    1.0\n",
        "\n",
        "\n"
       ]
      }
     ],
     "prompt_number": 99
    },
    {
     "cell_type": "markdown",
     "metadata": {
      "slideshow": {
       "slide_type": "slide"
      }
     },
     "source": [
      "# Functions\n",
      "\n",
      "As we've seen python functions are declared with a `def` some name and zero or more parameters."
     ]
    },
    {
     "cell_type": "code",
     "collapsed": false,
     "input": [
      "def add(a,b):\n",
      "    return a + b\n",
      "add(1,10)"
     ],
     "language": "python",
     "metadata": {
      "slideshow": {
       "slide_type": "fragment"
      }
     },
     "outputs": [
      {
       "metadata": {},
       "output_type": "pyout",
       "prompt_number": 138,
       "text": [
        "11"
       ]
      }
     ],
     "prompt_number": 138
    },
    {
     "cell_type": "markdown",
     "metadata": {},
     "source": [
      "Arguments are either positional or keyword arguments.  Positional arguments are specified in the order they're declared in the function definition.  keyword arguments are specified using `keyword=` notation."
     ]
    },
    {
     "cell_type": "markdown",
     "metadata": {
      "slideshow": {
       "slide_type": "slide"
      }
     },
     "source": [
      "Functions can have keyword parameters as well"
     ]
    },
    {
     "cell_type": "code",
     "collapsed": false,
     "input": [
      "def gravitationalforce(m1,m2,r,G=6.67384e-11):\n",
      "    \"\"\" \n",
      "        Compute gravitational force between two masses \n",
      "        using Newton's Law of Gravitation\n",
      "        F = G * (m1 * m2) / r^2\n",
      "    \"\"\"\n",
      "    return( G * (m1 * m2) / r**2 )\n",
      "    "
     ],
     "language": "python",
     "metadata": {
      "slideshow": {
       "slide_type": "fragment"
      }
     },
     "outputs": [],
     "prompt_number": 87
    },
    {
     "cell_type": "code",
     "collapsed": false,
     "input": [
      "# Current gravitational force between Earth and Mars\n",
      "mars_kg = 639e21\n",
      "earth_kg = 5.972e24\n",
      "mars_earth_102013 = 2.9772864e11\n",
      "gravitationalforce(mars_kg,earth_kg,mars_earth_102013)"
     ],
     "language": "python",
     "metadata": {
      "slideshow": {
       "slide_type": "fragment"
      }
     },
     "outputs": [
      {
       "metadata": {},
       "output_type": "pyout",
       "prompt_number": 117,
       "text": [
        "2873129627542957.0"
       ]
      }
     ],
     "prompt_number": 117
    },
    {
     "cell_type": "markdown",
     "metadata": {
      "slideshow": {
       "slide_type": "slide"
      }
     },
     "source": [
      "We could provide an alternate Gravitational constant for an alternat universe if necessary.  Not likely, but possible.\n",
      "\n",
      "* Positional arguments must come first\n",
      "* keyword arguments can't be blank, they must have a default value, none can be an acceptable default value."
     ]
    },
    {
     "cell_type": "code",
     "collapsed": false,
     "input": [
      "alternateG = 9.65e-11\n",
      "gravitationalforce(mars_kg,earth_kg,mars_earth_102013,G=alternateG)"
     ],
     "language": "python",
     "metadata": {
      "slideshow": {
       "slide_type": "fragment"
      }
     },
     "outputs": [
      {
       "metadata": {},
       "output_type": "pyout",
       "prompt_number": 118,
       "text": [
        "4154385017589504.0"
       ]
      }
     ],
     "prompt_number": 118
    },
    {
     "cell_type": "markdown",
     "metadata": {
      "slideshow": {
       "slide_type": "slide"
      }
     },
     "source": [
      "You can also allow functions to take an arbitrary number of arguments and/or keyword arguments using a special syntax."
     ]
    },
    {
     "cell_type": "code",
     "collapsed": false,
     "input": [
      "def passthrough(*args,**kwargs):\n",
      "    \"\"\" A function that takes an arbitrary number of arguments and kwargs and returns them \"\"\"\n",
      "    return({'args':args, 'kwargs': kwargs })"
     ],
     "language": "python",
     "metadata": {
      "slideshow": {
       "slide_type": "fragment"
      }
     },
     "outputs": [],
     "prompt_number": 103
    },
    {
     "cell_type": "code",
     "collapsed": false,
     "input": [
      "passthrough(1,2,3,4,5,foo=\"something\",bar=\"another thing\")"
     ],
     "language": "python",
     "metadata": {
      "slideshow": {
       "slide_type": "fragment"
      }
     },
     "outputs": [
      {
       "metadata": {},
       "output_type": "pyout",
       "prompt_number": 102,
       "text": [
        "{'args': (1, 2, 3, 4, 5),\n",
        " 'kwargs': {'bar': 'another thing', 'foo': 'something'}}"
       ]
      }
     ],
     "prompt_number": 102
    },
    {
     "cell_type": "markdown",
     "metadata": {
      "slideshow": {
       "slide_type": "slide"
      }
     },
     "source": [
      "# Numpy\n",
      "\n",
      "Numpy gives Python arrays/matrices and associated methods for manipulating arrays.  It has to be installed on a system (doesn't come as part of the standard Python Library).  Numpy is installed on EOMF systems we'll be using for this class.\n",
      "\n"
     ]
    },
    {
     "cell_type": "code",
     "collapsed": false,
     "input": [
      "import numpy\n",
      "values = [1,2,3]\n",
      "array = numpy.array(values)"
     ],
     "language": "python",
     "metadata": {
      "slideshow": {
       "slide_type": "fragment"
      }
     },
     "outputs": [],
     "prompt_number": 90
    },
    {
     "cell_type": "code",
     "collapsed": false,
     "input": [
      "array"
     ],
     "language": "python",
     "metadata": {
      "slideshow": {
       "slide_type": "fragment"
      }
     },
     "outputs": [
      {
       "metadata": {},
       "output_type": "pyout",
       "prompt_number": 91,
       "text": [
        "array([1, 2, 3])"
       ]
      }
     ],
     "prompt_number": 91
    },
    {
     "cell_type": "markdown",
     "metadata": {
      "slideshow": {
       "slide_type": "fragment"
      }
     },
     "source": [
      "Arrays are forced to have homogenious data types to improve performance and memory management."
     ]
    },
    {
     "cell_type": "code",
     "collapsed": false,
     "input": [
      "values = [1,\"2\",3]\n",
      "numpy.array(values)"
     ],
     "language": "python",
     "metadata": {
      "slideshow": {
       "slide_type": "fragment"
      }
     },
     "outputs": [
      {
       "metadata": {},
       "output_type": "pyout",
       "prompt_number": 95,
       "text": [
        "array(['1', '2', '3'], \n",
        "      dtype='|S1')"
       ]
      }
     ],
     "prompt_number": 95
    },
    {
     "cell_type": "code",
     "collapsed": false,
     "input": [
      "numpy.zeros((10,10))"
     ],
     "language": "python",
     "metadata": {
      "slideshow": {
       "slide_type": "slide"
      }
     },
     "outputs": [
      {
       "metadata": {},
       "output_type": "pyout",
       "prompt_number": 105,
       "text": [
        "array([[ 0.,  0.,  0.,  0.,  0.,  0.,  0.,  0.,  0.,  0.],\n",
        "       [ 0.,  0.,  0.,  0.,  0.,  0.,  0.,  0.,  0.,  0.],\n",
        "       [ 0.,  0.,  0.,  0.,  0.,  0.,  0.,  0.,  0.,  0.],\n",
        "       [ 0.,  0.,  0.,  0.,  0.,  0.,  0.,  0.,  0.,  0.],\n",
        "       [ 0.,  0.,  0.,  0.,  0.,  0.,  0.,  0.,  0.,  0.],\n",
        "       [ 0.,  0.,  0.,  0.,  0.,  0.,  0.,  0.,  0.,  0.],\n",
        "       [ 0.,  0.,  0.,  0.,  0.,  0.,  0.,  0.,  0.,  0.],\n",
        "       [ 0.,  0.,  0.,  0.,  0.,  0.,  0.,  0.,  0.,  0.],\n",
        "       [ 0.,  0.,  0.,  0.,  0.,  0.,  0.,  0.,  0.,  0.],\n",
        "       [ 0.,  0.,  0.,  0.,  0.,  0.,  0.,  0.,  0.,  0.]])"
       ]
      }
     ],
     "prompt_number": 105
    },
    {
     "cell_type": "code",
     "collapsed": false,
     "input": [
      "numpy.ones((10,5))"
     ],
     "language": "python",
     "metadata": {
      "slideshow": {
       "slide_type": "slide"
      }
     },
     "outputs": [
      {
       "metadata": {},
       "output_type": "pyout",
       "prompt_number": 106,
       "text": [
        "array([[ 1.,  1.,  1.,  1.,  1.],\n",
        "       [ 1.,  1.,  1.,  1.,  1.],\n",
        "       [ 1.,  1.,  1.,  1.,  1.],\n",
        "       [ 1.,  1.,  1.,  1.,  1.],\n",
        "       [ 1.,  1.,  1.,  1.,  1.],\n",
        "       [ 1.,  1.,  1.,  1.,  1.],\n",
        "       [ 1.,  1.,  1.,  1.,  1.],\n",
        "       [ 1.,  1.,  1.,  1.,  1.],\n",
        "       [ 1.,  1.,  1.,  1.,  1.],\n",
        "       [ 1.,  1.,  1.,  1.,  1.]])"
       ]
      }
     ],
     "prompt_number": 106
    },
    {
     "cell_type": "code",
     "collapsed": false,
     "input": [
      "numpy.identity(5)"
     ],
     "language": "python",
     "metadata": {
      "slideshow": {
       "slide_type": "slide"
      }
     },
     "outputs": [
      {
       "metadata": {},
       "output_type": "pyout",
       "prompt_number": 108,
       "text": [
        "array([[ 1.,  0.,  0.,  0.,  0.],\n",
        "       [ 0.,  1.,  0.,  0.,  0.],\n",
        "       [ 0.,  0.,  1.,  0.,  0.],\n",
        "       [ 0.,  0.,  0.,  1.,  0.],\n",
        "       [ 0.,  0.,  0.,  0.,  1.]])"
       ]
      }
     ],
     "prompt_number": 108
    },
    {
     "cell_type": "code",
     "collapsed": false,
     "input": [
      "emptya = numpy.empty((4,4)) # Values are whatever was in memory location previously\n",
      "print emptya\n",
      "print emptya.shape"
     ],
     "language": "python",
     "metadata": {
      "slideshow": {
       "slide_type": "slide"
      }
     },
     "outputs": [
      {
       "output_type": "stream",
       "stream": "stdout",
       "text": [
        "[[ -1.28822975e-231  -2.00389819e+000   9.43679304e-096   7.77663117e+160]\n",
        " [  4.76660077e+180   5.80836406e+180   7.26613223e+223   3.03667987e-152]\n",
        " [  9.08367203e+223   4.71651679e+257   7.35874515e+223   3.57872291e+161]\n",
        " [  1.33358377e+179   1.40020754e+195   5.43239540e-311   1.11253910e-308]]\n",
        "(4, 4)\n"
       ]
      }
     ],
     "prompt_number": 116
    },
    {
     "cell_type": "code",
     "collapsed": false,
     "input": [
      "emptya.ravel() # unravel to 1-dimensional array "
     ],
     "language": "python",
     "metadata": {
      "slideshow": {
       "slide_type": "slide"
      }
     },
     "outputs": [
      {
       "metadata": {},
       "output_type": "pyout",
       "prompt_number": 139,
       "text": [
        "array([ -1.28822975e-231,  -2.00389819e+000,   9.43679304e-096,\n",
        "         7.77663117e+160,   4.76660077e+180,   5.80836406e+180,\n",
        "         7.26613223e+223,   3.03667987e-152,   9.08367203e+223,\n",
        "         4.71651679e+257,   7.35874515e+223,   3.57872291e+161,\n",
        "         1.33358377e+179,   1.40020754e+195,   5.43239540e-311,\n",
        "         1.11253910e-308])"
       ]
      }
     ],
     "prompt_number": 139
    },
    {
     "cell_type": "markdown",
     "metadata": {
      "slideshow": {
       "slide_type": "slide"
      }
     },
     "source": [
      "# Next time\n",
      "\n",
      "* Numpy with GDAL\n",
      "* Remote sensing data\n",
      "* Python multiprocessing"
     ]
    }
   ],
   "metadata": {}
  }
 ]
}